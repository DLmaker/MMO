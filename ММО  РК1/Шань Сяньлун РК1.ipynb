{
 "cells": [
  {
   "cell_type": "code",
   "execution_count": 2,
   "id": "f6c502ca",
   "metadata": {},
   "outputs": [],
   "source": [
    "import numpy as np\n",
    "import pandas as pd\n",
    "\n",
    "from sklearn.impute import SimpleImputer\n",
    "from sklearn.preprocessing import StandardScaler\n",
    "from sklearn.feature_selection import SelectPercentile,chi2\n",
    "import  matplotlib.pyplot as plt"
   ]
  },
  {
   "cell_type": "code",
   "execution_count": 4,
   "id": "414e29de",
   "metadata": {},
   "outputs": [
    {
     "name": "stdout",
     "output_type": "stream",
     "text": [
      "    Unnamed: 0  Beijing  Tianjin  Hebei  Shanxi  Inner Mongolia  Liaoning  \\\n",
      "0         2020    36103    14084  36207   17652           17360     25115   \n",
      "1         2019    35445    14056  34979   16962           17213     24855   \n",
      "2         2018    33106    13363  32495   15958           16141     23511   \n",
      "3         2017    29883    12451  30641   14484           14898     21693   \n",
      "4         2016    27041    11477  28474   11946           13789     20393   \n",
      "5         2015    24779    10880  26398   11836           12949     20210   \n",
      "6         2014    22926    10641  25209   12095           12158     20026   \n",
      "7         2013    21135     9945  24260   11987           11392     19209   \n",
      "8         2012    19025     9043  23078   11683           10470     17849   \n",
      "9         2011    17189     8113  21385   10894            9458     16355   \n",
      "10        2010    14964     6831  18004    8904            8200     13896   \n",
      "11        2009    12901     5710  15307    7148            7104     12816   \n",
      "12        2008    11813     5182  14200    7223            6242     12138   \n",
      "13        2007    10426     4158  12153    5936            5167     10292   \n",
      "14        2006     8387     3538  10043    4714            4162      8390   \n",
      "15        2005     7150     3159   8773    4079            3524      7261   \n",
      "16        2004     6253     2621   7589    3496            2942      6470   \n",
      "17        2003     5267     2258   6334    2854            2388      5906   \n",
      "18        2002     4526     1927   5519    2325            1941      5458   \n",
      "19        2001     3862     1757   5063    2030            1714      5033   \n",
      "20        2000     3278     1592   4628    1846            1539      4669   \n",
      "21        1999     2760     1436   4159    1667            1379      4172   \n",
      "22        1998     2439     1345   3925    1611            1263      3882   \n",
      "23        1997     2118     1265   3652    1476            1154      3583   \n",
      "24        1996     1819     1122   3198    1292            1023      3158   \n",
      "25        1995     1516      932   2701    1076             857      2793   \n",
      "26        1994     1150      733   2115     827             695      2462   \n",
      "27        1993      889      539   1621     680             538      2011   \n",
      "28        1992      710      411   1279     551             422      1473   \n",
      "\n",
      "    Jilin  Heilongjiang  Shanghai  ...  Chongqing  Sichuan  Guizhou  Yunnan  \\\n",
      "0   12311         13699     38701  ...      25003    48599    17827   24522   \n",
      "1   11727         13544     37988  ...      23606    46364    16769   23224   \n",
      "2   11254         12847     36012  ...      21589    42902    15353   20881   \n",
      "3   10922         12313     32925  ...      20066    37905    13605   18486   \n",
      "4   10427         11895     29887  ...      18023    33139    11792   16369   \n",
      "5   10018         11690     26887  ...      16041    30342    10541   14960   \n",
      "6    9967         12171     25270  ...      14624    28891     9173   14042   \n",
      "7    9428         11849     23204  ...      13028    26518     7973   12826   \n",
      "8    8678         11016     21306  ...      11595    23922     6742   11097   \n",
      "9    7735          9935     20010  ...      10161    21051     5616    9523   \n",
      "10   6411          8308     17915  ...       8065    17225     4519    7735   \n",
      "11   5435          7219     15742  ...       6651    14191     3857    6574   \n",
      "12   4835          7134     14537  ...       5900    12756     3505    6017   \n",
      "13   4080          6126     12879  ...       4771    10562     2848    5077   \n",
      "14   3227          5330     10599  ...       3900     8495     2264    4091   \n",
      "15   2777          4756      9197  ...       3448     7196     1940    3498   \n",
      "16   2455          4135      8102  ...       3060     6304     1649    3136   \n",
      "17   2141          3610      6804  ...       2616     5346     1429    2633   \n",
      "18   2043          3243      5795  ...       2280     4725     1243    2359   \n",
      "19   1901          3043      5258  ...       2015     4294     1133    2159   \n",
      "20   1751          2856      4812  ...       1822     3928     1030    2030   \n",
      "21   1673          2537      4222  ...       1688     3649      938    1900   \n",
      "22   1577          2470      3831  ...       1622     3474      858    1831   \n",
      "23   1464          2398      3465  ...       1525     3242      806    1676   \n",
      "24   1347          2138      2981  ...       1326     2872      723    1518   \n",
      "25   1137          1790      2518  ...       1131     2443      636    1222   \n",
      "26    938          1448      1991  ...        838     2001      525     984   \n",
      "27    719          1075      1519  ...        611     1486      418     783   \n",
      "28    558           857      1114  ...        463     1177      340     619   \n",
      "\n",
      "    Tibet  Shaanxi  Gansu  Qinghai  Ningxia  Xingjiang  \n",
      "0    1903    26182   9017     3006     3921      13798  \n",
      "1    1698    25793   8718     2941     3749      13597  \n",
      "2    1548    23942   8104     2748     3510      12809  \n",
      "3    1349    21474   7337     2465     3200      11160  \n",
      "4    1173    19046   6908     2258     2781       9631  \n",
      "5    1043    17899   6557     2011     2579       9307  \n",
      "6     940    17403   6518     1848     2474       9265  \n",
      "7     828    15905   6015     1713     2328       8393  \n",
      "8     710    14142   5393     1529     2131       7412  \n",
      "9     612    12175   4817     1370     1932       6532  \n",
      "10    513     9845   3944     1144     1572       5360  \n",
      "11    446     7998   3268      940     1267       4237  \n",
      "12    398     7178   3072      897     1139       4143  \n",
      "13    344     5682   2675      720      878       3500  \n",
      "14    286     4596   2203      585      683       2957  \n",
      "15    243     3817   1865      499      580       2521  \n",
      "16    218     3142   1654      444      520       2170  \n",
      "17    186     2588   1400      385      443       1889  \n",
      "18    162     2253   1232      341      377       1613  \n",
      "19    139     2011   1125      300      337       1492  \n",
      "20    118     1804   1053      264      295       1364  \n",
      "21    106     1593    956      239      265       1163  \n",
      "22     92     1458    888      221      246       1107  \n",
      "23     77     1364    794      203      225       1040  \n",
      "24     65     1216    723      184      203        901  \n",
      "25     56     1037    558      168      175        815  \n",
      "26     46      839    454      138      136        662  \n",
      "27     37      678    372      110      105        495  \n",
      "28     33      532    318       88       83        402  \n",
      "\n",
      "[29 rows x 32 columns]\n"
     ]
    }
   ],
   "source": [
    "path = \"Chinas GDP in Province En.csv\"\n",
    "df = pd.read_csv(path)\n",
    "print(df)"
   ]
  },
  {
   "cell_type": "markdown",
   "id": "5f63a840",
   "metadata": {},
   "source": [
    "# Задача №19.\n",
    "Для набора данных проведите масштабирование данных для одного (произвольного) числового признака с использованием метода \"Mean Normalisation\"."
   ]
  },
  {
   "cell_type": "code",
   "execution_count": 89,
   "id": "eb29e0c7",
   "metadata": {},
   "outputs": [
    {
     "data": {
      "text/plain": [
       "array([[ 2.06147143],\n",
       "       [ 2.00346313],\n",
       "       [ 1.79726035],\n",
       "       [ 1.51312545],\n",
       "       [ 1.26257894],\n",
       "       [ 1.06316437],\n",
       "       [ 0.89980664],\n",
       "       [ 0.74191473],\n",
       "       [ 0.55590026],\n",
       "       [ 0.39404122],\n",
       "       [ 0.19788851],\n",
       "       [ 0.01601749],\n",
       "       [-0.07989898],\n",
       "       [-0.20217484],\n",
       "       [-0.38193006],\n",
       "       [-0.49098215],\n",
       "       [-0.57006034],\n",
       "       [-0.65698464],\n",
       "       [-0.7223101 ],\n",
       "       [-0.78084736],\n",
       "       [-0.83233193],\n",
       "       [-0.87799804],\n",
       "       [-0.90629693],\n",
       "       [-0.93459581],\n",
       "       [-0.96095521],\n",
       "       [-0.98766724],\n",
       "       [-1.01993326],\n",
       "       [-1.04294263],\n",
       "       [-1.058723  ]])"
      ]
     },
     "execution_count": 89,
     "metadata": {},
     "output_type": "execute_result"
    }
   ],
   "source": [
    "SS = StandardScaler()\n",
    "SS.fit_transform(df.Beijing.values.reshape(-1,1))"
   ]
  },
  {
   "cell_type": "markdown",
   "id": "174734d6",
   "metadata": {},
   "source": [
    "# Задача №39.\n",
    "Для набора данных проведите процедуру отбора признаков (feature selection). Используйте класс SelectPercentile для 10% лучших признаков, и метод, основанный на взаимной информации."
   ]
  },
  {
   "cell_type": "code",
   "execution_count": 91,
   "id": "cb157922",
   "metadata": {},
   "outputs": [
    {
     "name": "stdout",
     "output_type": "stream",
     "text": [
      "(29, 3)\n",
      "(29, 32)\n"
     ]
    }
   ],
   "source": [
    "X = df.iloc[:,0:-2]\n",
    "Y = df.iloc[:,-1]\n",
    "SP = SelectPercentile(chi2,percentile=10)\n",
    "new_df = SP.fit_transform(X,Y)\n",
    "print(new_df.shape)\n",
    "print(df.shape)"
   ]
  },
  {
   "cell_type": "markdown",
   "id": "237b4bfb",
   "metadata": {},
   "source": [
    "Для студентов групп ИУ5-22М, ИУ5И-22М - для произвольной колонки данных построить гистограмму."
   ]
  },
  {
   "cell_type": "code",
   "execution_count": 90,
   "id": "42170bcd",
   "metadata": {},
   "outputs": [
    {
     "data": {
      "image/png": "[encoded data removed]",
      "text/plain": [
       "<Figure size 432x288 with 1 Axes>"
      ]
     },
     "metadata": {
      "needs_background": "light"
     },
     "output_type": "display_data"
    }
   ],
   "source": [
    "X_hist = df['Shanghai']\n",
    "\n",
    "fig, ax = plt.subplots()\n",
    "ax.hist(X_hist,29,facecolor='green',edgecolor='black',alpha=1,histtype='bar')\n",
    "ax.set_title(\"shanghai\")\n",
    "plt.show()"
   ]
  },
  {
   "cell_type": "code",
   "execution_count": null,
   "id": "0b19dbe8",
   "metadata": {},
   "outputs": [],
   "source": []
  }
 ],
 "metadata": {
  "kernelspec": {
   "display_name": "Python 3 (ipykernel)",
   "language": "python",
   "name": "python3"
  },
  "language_info": {
   "codemirror_mode": {
    "name": "ipython",
    "version": 3
   },
   "file_extension": ".py",
   "mimetype": "text/x-python",
   "name": "python",
   "nbconvert_exporter": "python",
   "pygments_lexer": "ipython3",
   "version": "3.9.7"
  }
 },
 "nbformat": 4,
 "nbformat_minor": 5
}
