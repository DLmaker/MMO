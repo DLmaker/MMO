{
 "cells": [
  {
   "cell_type": "markdown",
   "id": "76faff13",
   "metadata": {},
   "source": [
    "# 1. Цель лабораторной работы:"
   ]
  },
  {
   "cell_type": "markdown",
   "id": "be3d5391",
   "metadata": {},
   "source": [
    "Изучение разработки рекомендательных моделей"
   ]
  },
  {
   "cell_type": "markdown",
   "id": "560998bf",
   "metadata": {},
   "source": [
    "# 2. Задание:"
   ]
  },
  {
   "cell_type": "markdown",
   "id": "b2e29207",
   "metadata": {},
   "source": [
    "1.Выбрать произвольный набор данных (датасет), предназначенный для построения рекомендательных моделей.\n",
    "\n",
    "2.Опираясь на материалы лекции, сформировать рекомендации для одного пользователя (объекта) двумя произвольными способами.\n",
    "\n",
    "3.Сравнить полученные рекомендации (если это возможно, то с применением метрик)."
   ]
  },
  {
   "cell_type": "markdown",
   "id": "22b96f84",
   "metadata": {},
   "source": [
    "# 3. Ход выполнения работы"
   ]
  },
  {
   "cell_type": "markdown",
   "id": "adf5b7a7",
   "metadata": {},
   "source": [
    "Импорт библиотек"
   ]
  },
  {
   "cell_type": "code",
   "execution_count": 111,
   "id": "ff38b57f",
   "metadata": {},
   "outputs": [],
   "source": [
    "import numpy as np\n",
    "import pandas as pd\n",
    "from typing import Dict\n",
    "from sklearn.feature_extraction.text import TfidfVectorizer\n",
    "from sklearn.metrics.pairwise import cosine_similarity, euclidean_distances, manhattan_distances\n",
    "from surprise import SVD, Dataset, Reader\n",
    "import seaborn as sns\n",
    "import matplotlib.pyplot as plt\n",
    "from matplotlib_venn import venn2\n",
    "%matplotlib inline \n",
    "sns.set(style=\"ticks\")"
   ]
  },
  {
   "cell_type": "markdown",
   "id": "31b063fb",
   "metadata": {},
   "source": [
    "Чтение данных"
   ]
  },
  {
   "cell_type": "code",
   "execution_count": 112,
   "id": "9f764047",
   "metadata": {},
   "outputs": [
    {
     "data": {
      "text/html": [
       "<div>\n",
       "<style scoped>\n",
       "    .dataframe tbody tr th:only-of-type {\n",
       "        vertical-align: middle;\n",
       "    }\n",
       "\n",
       "    .dataframe tbody tr th {\n",
       "        vertical-align: top;\n",
       "    }\n",
       "\n",
       "    .dataframe thead th {\n",
       "        text-align: right;\n",
       "    }\n",
       "</style>\n",
       "<table border=\"1\" class=\"dataframe\">\n",
       "  <thead>\n",
       "    <tr style=\"text-align: right;\">\n",
       "      <th></th>\n",
       "      <th>movieId</th>\n",
       "      <th>title</th>\n",
       "      <th>genres</th>\n",
       "    </tr>\n",
       "  </thead>\n",
       "  <tbody>\n",
       "    <tr>\n",
       "      <th>0</th>\n",
       "      <td>1</td>\n",
       "      <td>Toy Story (1995)</td>\n",
       "      <td>Adventure|Animation|Children|Comedy|Fantasy</td>\n",
       "    </tr>\n",
       "    <tr>\n",
       "      <th>1</th>\n",
       "      <td>2</td>\n",
       "      <td>Jumanji (1995)</td>\n",
       "      <td>Adventure|Children|Fantasy</td>\n",
       "    </tr>\n",
       "    <tr>\n",
       "      <th>2</th>\n",
       "      <td>3</td>\n",
       "      <td>Grumpier Old Men (1995)</td>\n",
       "      <td>Comedy|Romance</td>\n",
       "    </tr>\n",
       "    <tr>\n",
       "      <th>3</th>\n",
       "      <td>4</td>\n",
       "      <td>Waiting to Exhale (1995)</td>\n",
       "      <td>Comedy|Drama|Romance</td>\n",
       "    </tr>\n",
       "    <tr>\n",
       "      <th>4</th>\n",
       "      <td>5</td>\n",
       "      <td>Father of the Bride Part II (1995)</td>\n",
       "      <td>Comedy</td>\n",
       "    </tr>\n",
       "  </tbody>\n",
       "</table>\n",
       "</div>"
      ],
      "text/plain": [
       "   movieId                               title  \\\n",
       "0        1                    Toy Story (1995)   \n",
       "1        2                      Jumanji (1995)   \n",
       "2        3             Grumpier Old Men (1995)   \n",
       "3        4            Waiting to Exhale (1995)   \n",
       "4        5  Father of the Bride Part II (1995)   \n",
       "\n",
       "                                        genres  \n",
       "0  Adventure|Animation|Children|Comedy|Fantasy  \n",
       "1                   Adventure|Children|Fantasy  \n",
       "2                               Comedy|Romance  \n",
       "3                         Comedy|Drama|Romance  \n",
       "4                                       Comedy  "
      ]
     },
     "execution_count": 112,
     "metadata": {},
     "output_type": "execute_result"
    }
   ],
   "source": [
    "df_movies_all=pd.read_csv('movies.csv')\n",
    "df_movies_all.head()"
   ]
  },
  {
   "cell_type": "code",
   "execution_count": 113,
   "id": "e13aaf71",
   "metadata": {},
   "outputs": [
    {
     "data": {
      "text/plain": [
       "(9742, 3)"
      ]
     },
     "execution_count": 113,
     "metadata": {},
     "output_type": "execute_result"
    }
   ],
   "source": [
    "df_movies_all.shape"
   ]
  },
  {
   "cell_type": "code",
   "execution_count": 114,
   "id": "2f6cd8c9",
   "metadata": {},
   "outputs": [
    {
     "data": {
      "text/html": [
       "<div>\n",
       "<style scoped>\n",
       "    .dataframe tbody tr th:only-of-type {\n",
       "        vertical-align: middle;\n",
       "    }\n",
       "\n",
       "    .dataframe tbody tr th {\n",
       "        vertical-align: top;\n",
       "    }\n",
       "\n",
       "    .dataframe thead th {\n",
       "        text-align: right;\n",
       "    }\n",
       "</style>\n",
       "<table border=\"1\" class=\"dataframe\">\n",
       "  <thead>\n",
       "    <tr style=\"text-align: right;\">\n",
       "      <th></th>\n",
       "      <th>userId</th>\n",
       "      <th>movieId</th>\n",
       "      <th>rating</th>\n",
       "      <th>timestamp</th>\n",
       "    </tr>\n",
       "  </thead>\n",
       "  <tbody>\n",
       "    <tr>\n",
       "      <th>0</th>\n",
       "      <td>1</td>\n",
       "      <td>1</td>\n",
       "      <td>4.0</td>\n",
       "      <td>964982703</td>\n",
       "    </tr>\n",
       "    <tr>\n",
       "      <th>1</th>\n",
       "      <td>1</td>\n",
       "      <td>3</td>\n",
       "      <td>4.0</td>\n",
       "      <td>964981247</td>\n",
       "    </tr>\n",
       "    <tr>\n",
       "      <th>2</th>\n",
       "      <td>1</td>\n",
       "      <td>6</td>\n",
       "      <td>4.0</td>\n",
       "      <td>964982224</td>\n",
       "    </tr>\n",
       "    <tr>\n",
       "      <th>3</th>\n",
       "      <td>1</td>\n",
       "      <td>47</td>\n",
       "      <td>5.0</td>\n",
       "      <td>964983815</td>\n",
       "    </tr>\n",
       "    <tr>\n",
       "      <th>4</th>\n",
       "      <td>1</td>\n",
       "      <td>50</td>\n",
       "      <td>5.0</td>\n",
       "      <td>964982931</td>\n",
       "    </tr>\n",
       "  </tbody>\n",
       "</table>\n",
       "</div>"
      ],
      "text/plain": [
       "   userId  movieId  rating  timestamp\n",
       "0       1        1     4.0  964982703\n",
       "1       1        3     4.0  964981247\n",
       "2       1        6     4.0  964982224\n",
       "3       1       47     5.0  964983815\n",
       "4       1       50     5.0  964982931"
      ]
     },
     "execution_count": 114,
     "metadata": {},
     "output_type": "execute_result"
    }
   ],
   "source": [
    "df_ratings=pd.read_csv('ratings.csv')\n",
    "df_ratings.head()"
   ]
  },
  {
   "cell_type": "code",
   "execution_count": 115,
   "id": "5f5fe4b3",
   "metadata": {},
   "outputs": [
    {
     "data": {
      "text/plain": [
       "(100836, 4)"
      ]
     },
     "execution_count": 115,
     "metadata": {},
     "output_type": "execute_result"
    }
   ],
   "source": [
    "df_ratings.shape"
   ]
  },
  {
   "cell_type": "code",
   "execution_count": 116,
   "id": "069b7d18",
   "metadata": {},
   "outputs": [],
   "source": [
    "# Оставляем только аниме, которые есть в df_rating\n",
    "movie_ids = df_ratings[df_ratings['movieId'].notnull()]['movieId']\n",
    "df_movie = df_movies_all[df_movies_all['movieId'].isin(movie_ids)]"
   ]
  },
  {
   "cell_type": "code",
   "execution_count": 117,
   "id": "c386091b",
   "metadata": {},
   "outputs": [
    {
     "data": {
      "text/plain": [
       "((9742, 3), (9724, 3))"
      ]
     },
     "execution_count": 117,
     "metadata": {},
     "output_type": "execute_result"
    }
   ],
   "source": [
    "df_movies_all.shape,df_movie.shape"
   ]
  },
  {
   "cell_type": "markdown",
   "id": "ad9f0873",
   "metadata": {},
   "source": [
    "Выбор идентификаторов для связи таблиц"
   ]
  },
  {
   "cell_type": "code",
   "execution_count": 119,
   "id": "acb79ebe",
   "metadata": {},
   "outputs": [
    {
     "data": {
      "text/plain": [
       "<matplotlib_venn._common.VennDiagram at 0x276824ac0d0>"
      ]
     },
     "execution_count": 119,
     "metadata": {},
     "output_type": "execute_result"
    },
    {
     "data": {
      "image/png": "[encoded data removed]",
      "text/plain": [
       "<Figure size 432x288 with 1 Axes>"
      ]
     },
     "metadata": {},
     "output_type": "display_data"
    }
   ],
   "source": [
    "venn2([set(df_ratings['movieId'].unique()), set(df_movie['movieId'].unique())])"
   ]
  },
  {
   "cell_type": "markdown",
   "id": "64d6fa92",
   "metadata": {},
   "source": [
    "Векторизация описания фильмов"
   ]
  },
  {
   "cell_type": "code",
   "execution_count": 120,
   "id": "38b2cdcc",
   "metadata": {},
   "outputs": [],
   "source": [
    "df_movie_with_genre = df_movie[df_movie['genres'].notnull()]\n",
    "df_movie_with_genre = df_movie_with_genre[~df_movie_with_genre['genres'].str.isspace()]"
   ]
  },
  {
   "cell_type": "code",
   "execution_count": 121,
   "id": "f26a57c4",
   "metadata": {},
   "outputs": [
    {
     "data": {
      "text/plain": [
       "array([1, 2, 3, 4, 5], dtype=int64)"
      ]
     },
     "execution_count": 121,
     "metadata": {},
     "output_type": "execute_result"
    }
   ],
   "source": [
    "movieId=df_movie_with_genre['movieId'].values\n",
    "movieId[0:5]"
   ]
  },
  {
   "cell_type": "code",
   "execution_count": 122,
   "id": "c85277d7",
   "metadata": {},
   "outputs": [
    {
     "data": {
      "text/plain": [
       "array(['Toy Story (1995)', 'Jumanji (1995)', 'Grumpier Old Men (1995)',\n",
       "       'Waiting to Exhale (1995)', 'Father of the Bride Part II (1995)'],\n",
       "      dtype=object)"
      ]
     },
     "execution_count": 122,
     "metadata": {},
     "output_type": "execute_result"
    }
   ],
   "source": [
    "moviename=df_movie_with_genre['title'].values\n",
    "moviename[0:5]"
   ]
  },
  {
   "cell_type": "code",
   "execution_count": 123,
   "id": "118b2ab7",
   "metadata": {},
   "outputs": [
    {
     "data": {
      "text/plain": [
       "array(['Adventure|Animation|Children|Comedy|Fantasy',\n",
       "       'Adventure|Children|Fantasy', 'Comedy|Romance',\n",
       "       'Comedy|Drama|Romance', 'Comedy'], dtype=object)"
      ]
     },
     "execution_count": 123,
     "metadata": {},
     "output_type": "execute_result"
    }
   ],
   "source": [
    "genre=df_movie_with_genre['genres'].values\n",
    "genre[0:5]"
   ]
  },
  {
   "cell_type": "code",
   "execution_count": 124,
   "id": "1ecd1d70",
   "metadata": {},
   "outputs": [
    {
     "name": "stdout",
     "output_type": "stream",
     "text": [
      "Wall time: 71 ms\n"
     ]
    },
    {
     "data": {
      "text/plain": [
       "<9724x24 sparse matrix of type '<class 'numpy.float64'>'\n",
       "\twith 23179 stored elements in Compressed Sparse Row format>"
      ]
     },
     "execution_count": 124,
     "metadata": {},
     "output_type": "execute_result"
    }
   ],
   "source": [
    "%%time\n",
    "tfidfv = TfidfVectorizer()\n",
    "genre_matrix = tfidfv.fit_transform(genre)\n",
    "genre_matrix"
   ]
  },
  {
   "cell_type": "markdown",
   "id": "18744362",
   "metadata": {},
   "source": [
    "3.1 Фильтрация на основе содержания"
   ]
  },
  {
   "cell_type": "markdown",
   "id": "49ea76d0",
   "metadata": {},
   "source": [
    "Рекомендации в зависимости от жанров аниме"
   ]
  },
  {
   "cell_type": "code",
   "execution_count": 125,
   "id": "62499208",
   "metadata": {},
   "outputs": [],
   "source": [
    "class SimpleKNNRecommender:\n",
    "    \n",
    "    def __init__(self, X_matrix, X_ids, X_name, X_genre):\n",
    "    # Входные параметры:\n",
    "    # X_matrix - обучающая выборка (матрица объект-признак)\n",
    "    # X_ids - массив идентификаторов \n",
    "    # X_name - массив названий \n",
    "    # X_genre - массив жанров \n",
    "\n",
    "        self._X_matrix = X_matrix\n",
    "        self.df = pd.DataFrame(\n",
    "            {'id': pd.Series(X_ids, dtype='int'),\n",
    "            'name': pd.Series(X_name, dtype='str'),\n",
    "            'genre': pd.Series(X_genre, dtype='str'),\n",
    "            'dist': pd.Series([], dtype='float')})\n",
    "            \n",
    "            \n",
    "    def recommend_for_single_object(self, K: int, \\\n",
    "                X_matrix_object, cos_flag = True, manh_flag = False):\n",
    "    # Метод формирования рекомендаций для одного объекта.\n",
    "    # Входные параметры:\n",
    "    # K - количество рекомендуемых соседей \n",
    "    # X_matrix_object - строка матрицы объект-признак, соответствующая объекту\n",
    "    # cos_flag - флаг вычисления косинусного расстояния\n",
    "    # manh_flag - флаг вычисления манхэттэнского расстояния\n",
    "    # Возвращаемое значение: K найденных соседей\n",
    " \n",
    "        scale = 1000000\n",
    "        # Вычисляем косинусную близость\n",
    "        if cos_flag:\n",
    "            dist = cosine_similarity(self._X_matrix, X_matrix_object)\n",
    "            self.df['dist'] = dist * scale\n",
    "            res = self.df.sort_values(by='dist', ascending=False)\n",
    "            # Не учитываем рекомендации с единичным расстоянием,\n",
    "            # так как это искомый объект\n",
    "            res = res[res['dist'] < scale]\n",
    "        \n",
    "        else:\n",
    "            if manh_flag:\n",
    "                dist = manhattan_distances(self._X_matrix, X_matrix_object)\n",
    "            else:\n",
    "                dist = euclidean_distances(self._X_matrix, X_matrix_object)\n",
    "            self.df['dist'] = dist * scale\n",
    "            res = self.df.sort_values(by='dist', ascending=True)\n",
    "            # Не учитываем рекомендации с единичным расстоянием,\n",
    "            # так как это искомый объект\n",
    "            res = res[res['dist'] > 0.0]            \n",
    "        \n",
    "        # Оставляем К первых рекомендаций\n",
    "        res = res.head(K)\n",
    "        return res"
   ]
  },
  {
   "cell_type": "code",
   "execution_count": 126,
   "id": "1e317eeb",
   "metadata": {},
   "outputs": [
    {
     "data": {
      "text/plain": [
       "'Toy Story (1995)'"
      ]
     },
     "execution_count": 126,
     "metadata": {},
     "output_type": "execute_result"
    }
   ],
   "source": [
    "Toy_Story  = 0\n",
    "moviename[Toy_Story]"
   ]
  },
  {
   "cell_type": "code",
   "execution_count": 127,
   "id": "10a7dff8",
   "metadata": {},
   "outputs": [
    {
     "data": {
      "text/plain": [
       "'Adventure|Animation|Children|Comedy|Fantasy'"
      ]
     },
     "execution_count": 127,
     "metadata": {},
     "output_type": "execute_result"
    }
   ],
   "source": [
    "genre[Toy_Story]"
   ]
  },
  {
   "cell_type": "code",
   "execution_count": 128,
   "id": "7e07e253",
   "metadata": {},
   "outputs": [
    {
     "data": {
      "text/plain": [
       "<1x24 sparse matrix of type '<class 'numpy.float64'>'\n",
       "\twith 5 stored elements in Compressed Sparse Row format>"
      ]
     },
     "execution_count": 128,
     "metadata": {},
     "output_type": "execute_result"
    }
   ],
   "source": [
    "Toy_Story_matrix=genre_matrix[Toy_Story]\n",
    "Toy_Story_matrix"
   ]
  },
  {
   "cell_type": "code",
   "execution_count": 129,
   "id": "4dc640dc",
   "metadata": {},
   "outputs": [],
   "source": [
    "skr1 = SimpleKNNRecommender(genre_matrix, movieId, moviename, genre)"
   ]
  },
  {
   "cell_type": "code",
   "execution_count": 130,
   "id": "ebcdd2c1",
   "metadata": {},
   "outputs": [
    {
     "data": {
      "text/html": [
       "<div>\n",
       "<style scoped>\n",
       "    .dataframe tbody tr th:only-of-type {\n",
       "        vertical-align: middle;\n",
       "    }\n",
       "\n",
       "    .dataframe tbody tr th {\n",
       "        vertical-align: top;\n",
       "    }\n",
       "\n",
       "    .dataframe thead th {\n",
       "        text-align: right;\n",
       "    }\n",
       "</style>\n",
       "<table border=\"1\" class=\"dataframe\">\n",
       "  <thead>\n",
       "    <tr style=\"text-align: right;\">\n",
       "      <th></th>\n",
       "      <th>id</th>\n",
       "      <th>name</th>\n",
       "      <th>genre</th>\n",
       "      <th>dist</th>\n",
       "    </tr>\n",
       "  </thead>\n",
       "  <tbody>\n",
       "    <tr>\n",
       "      <th>8882</th>\n",
       "      <td>134853</td>\n",
       "      <td>Inside Out (2015)</td>\n",
       "      <td>Adventure|Animation|Children|Comedy|Drama|Fantasy</td>\n",
       "      <td>970751.211229</td>\n",
       "    </tr>\n",
       "    <tr>\n",
       "      <th>4418</th>\n",
       "      <td>6536</td>\n",
       "      <td>Sinbad: Legend of the Seven Seas (2003)</td>\n",
       "      <td>Adventure|Animation|Children|Fantasy</td>\n",
       "      <td>963553.054623</td>\n",
       "    </tr>\n",
       "    <tr>\n",
       "      <th>5673</th>\n",
       "      <td>27731</td>\n",
       "      <td>Cat Returns, The (Neko no ongaeshi) (2002)</td>\n",
       "      <td>Adventure|Animation|Children|Fantasy</td>\n",
       "      <td>963553.054623</td>\n",
       "    </tr>\n",
       "    <tr>\n",
       "      <th>1576</th>\n",
       "      <td>2116</td>\n",
       "      <td>Lord of the Rings, The (1978)</td>\n",
       "      <td>Adventure|Animation|Children|Fantasy</td>\n",
       "      <td>963553.054623</td>\n",
       "    </tr>\n",
       "    <tr>\n",
       "      <th>9351</th>\n",
       "      <td>162578</td>\n",
       "      <td>Kubo and the Two Strings (2016)</td>\n",
       "      <td>Adventure|Animation|Children|Fantasy</td>\n",
       "      <td>963553.054623</td>\n",
       "    </tr>\n",
       "    <tr>\n",
       "      <th>1504</th>\n",
       "      <td>2033</td>\n",
       "      <td>Black Cauldron, The (1985)</td>\n",
       "      <td>Adventure|Animation|Children|Fantasy</td>\n",
       "      <td>963553.054623</td>\n",
       "    </tr>\n",
       "    <tr>\n",
       "      <th>6927</th>\n",
       "      <td>65261</td>\n",
       "      <td>Ponyo (Gake no ue no Ponyo) (2008)</td>\n",
       "      <td>Adventure|Animation|Children|Fantasy</td>\n",
       "      <td>963553.054623</td>\n",
       "    </tr>\n",
       "    <tr>\n",
       "      <th>4009</th>\n",
       "      <td>5672</td>\n",
       "      <td>Pokemon 4 Ever (a.k.a. Pokémon 4: The Movie) (...</td>\n",
       "      <td>Adventure|Animation|Children|Fantasy</td>\n",
       "      <td>963553.054623</td>\n",
       "    </tr>\n",
       "    <tr>\n",
       "      <th>3225</th>\n",
       "      <td>4366</td>\n",
       "      <td>Atlantis: The Lost Empire (2001)</td>\n",
       "      <td>Adventure|Animation|Children|Fantasy</td>\n",
       "      <td>963553.054623</td>\n",
       "    </tr>\n",
       "    <tr>\n",
       "      <th>2536</th>\n",
       "      <td>3400</td>\n",
       "      <td>We're Back! A Dinosaur's Story (1993)</td>\n",
       "      <td>Adventure|Animation|Children|Fantasy</td>\n",
       "      <td>963553.054623</td>\n",
       "    </tr>\n",
       "    <tr>\n",
       "      <th>5077</th>\n",
       "      <td>8015</td>\n",
       "      <td>Phantom Tollbooth, The (1970)</td>\n",
       "      <td>Adventure|Animation|Children|Fantasy</td>\n",
       "      <td>963553.054623</td>\n",
       "    </tr>\n",
       "    <tr>\n",
       "      <th>3331</th>\n",
       "      <td>4519</td>\n",
       "      <td>Land Before Time, The (1988)</td>\n",
       "      <td>Adventure|Animation|Children|Fantasy</td>\n",
       "      <td>963553.054623</td>\n",
       "    </tr>\n",
       "    <tr>\n",
       "      <th>9526</th>\n",
       "      <td>172793</td>\n",
       "      <td>Vovka in the Kingdom of Far Far Away (1965)</td>\n",
       "      <td>Adventure|Animation|Children|Fantasy</td>\n",
       "      <td>963553.054623</td>\n",
       "    </tr>\n",
       "    <tr>\n",
       "      <th>5611</th>\n",
       "      <td>27186</td>\n",
       "      <td>Kirikou and the Sorceress (Kirikou et la sorci...</td>\n",
       "      <td>Adventure|Animation|Children|Fantasy</td>\n",
       "      <td>963553.054623</td>\n",
       "    </tr>\n",
       "    <tr>\n",
       "      <th>6431</th>\n",
       "      <td>51939</td>\n",
       "      <td>TMNT (Teenage Mutant Ninja Turtles) (2007)</td>\n",
       "      <td>Action|Adventure|Animation|Children|Comedy|Fan...</td>\n",
       "      <td>939057.875775</td>\n",
       "    </tr>\n",
       "  </tbody>\n",
       "</table>\n",
       "</div>"
      ],
      "text/plain": [
       "          id                                               name  \\\n",
       "8882  134853                                  Inside Out (2015)   \n",
       "4418    6536            Sinbad: Legend of the Seven Seas (2003)   \n",
       "5673   27731         Cat Returns, The (Neko no ongaeshi) (2002)   \n",
       "1576    2116                      Lord of the Rings, The (1978)   \n",
       "9351  162578                    Kubo and the Two Strings (2016)   \n",
       "1504    2033                         Black Cauldron, The (1985)   \n",
       "6927   65261                 Ponyo (Gake no ue no Ponyo) (2008)   \n",
       "4009    5672  Pokemon 4 Ever (a.k.a. Pokémon 4: The Movie) (...   \n",
       "3225    4366                   Atlantis: The Lost Empire (2001)   \n",
       "2536    3400              We're Back! A Dinosaur's Story (1993)   \n",
       "5077    8015                      Phantom Tollbooth, The (1970)   \n",
       "3331    4519                       Land Before Time, The (1988)   \n",
       "9526  172793        Vovka in the Kingdom of Far Far Away (1965)   \n",
       "5611   27186  Kirikou and the Sorceress (Kirikou et la sorci...   \n",
       "6431   51939         TMNT (Teenage Mutant Ninja Turtles) (2007)   \n",
       "\n",
       "                                                  genre           dist  \n",
       "8882  Adventure|Animation|Children|Comedy|Drama|Fantasy  970751.211229  \n",
       "4418               Adventure|Animation|Children|Fantasy  963553.054623  \n",
       "5673               Adventure|Animation|Children|Fantasy  963553.054623  \n",
       "1576               Adventure|Animation|Children|Fantasy  963553.054623  \n",
       "9351               Adventure|Animation|Children|Fantasy  963553.054623  \n",
       "1504               Adventure|Animation|Children|Fantasy  963553.054623  \n",
       "6927               Adventure|Animation|Children|Fantasy  963553.054623  \n",
       "4009               Adventure|Animation|Children|Fantasy  963553.054623  \n",
       "3225               Adventure|Animation|Children|Fantasy  963553.054623  \n",
       "2536               Adventure|Animation|Children|Fantasy  963553.054623  \n",
       "5077               Adventure|Animation|Children|Fantasy  963553.054623  \n",
       "3331               Adventure|Animation|Children|Fantasy  963553.054623  \n",
       "9526               Adventure|Animation|Children|Fantasy  963553.054623  \n",
       "5611               Adventure|Animation|Children|Fantasy  963553.054623  \n",
       "6431  Action|Adventure|Animation|Children|Comedy|Fan...  939057.875775  "
      ]
     },
     "execution_count": 130,
     "metadata": {},
     "output_type": "execute_result"
    }
   ],
   "source": [
    "rec1 = skr1.recommend_for_single_object(15, Toy_Story_matrix)\n",
    "rec1"
   ]
  },
  {
   "cell_type": "code",
   "execution_count": 131,
   "id": "067aa043",
   "metadata": {},
   "outputs": [
    {
     "data": {
      "text/html": [
       "<div>\n",
       "<style scoped>\n",
       "    .dataframe tbody tr th:only-of-type {\n",
       "        vertical-align: middle;\n",
       "    }\n",
       "\n",
       "    .dataframe tbody tr th {\n",
       "        vertical-align: top;\n",
       "    }\n",
       "\n",
       "    .dataframe thead th {\n",
       "        text-align: right;\n",
       "    }\n",
       "</style>\n",
       "<table border=\"1\" class=\"dataframe\">\n",
       "  <thead>\n",
       "    <tr style=\"text-align: right;\">\n",
       "      <th></th>\n",
       "      <th>id</th>\n",
       "      <th>name</th>\n",
       "      <th>genre</th>\n",
       "      <th>dist</th>\n",
       "    </tr>\n",
       "  </thead>\n",
       "  <tbody>\n",
       "    <tr>\n",
       "      <th>8882</th>\n",
       "      <td>134853</td>\n",
       "      <td>Inside Out (2015)</td>\n",
       "      <td>Adventure|Animation|Children|Comedy|Drama|Fantasy</td>\n",
       "      <td>241862.724582</td>\n",
       "    </tr>\n",
       "    <tr>\n",
       "      <th>1576</th>\n",
       "      <td>2116</td>\n",
       "      <td>Lord of the Rings, The (1978)</td>\n",
       "      <td>Adventure|Animation|Children|Fantasy</td>\n",
       "      <td>269988.686345</td>\n",
       "    </tr>\n",
       "    <tr>\n",
       "      <th>5611</th>\n",
       "      <td>27186</td>\n",
       "      <td>Kirikou and the Sorceress (Kirikou et la sorci...</td>\n",
       "      <td>Adventure|Animation|Children|Fantasy</td>\n",
       "      <td>269988.686345</td>\n",
       "    </tr>\n",
       "    <tr>\n",
       "      <th>5077</th>\n",
       "      <td>8015</td>\n",
       "      <td>Phantom Tollbooth, The (1970)</td>\n",
       "      <td>Adventure|Animation|Children|Fantasy</td>\n",
       "      <td>269988.686345</td>\n",
       "    </tr>\n",
       "    <tr>\n",
       "      <th>9526</th>\n",
       "      <td>172793</td>\n",
       "      <td>Vovka in the Kingdom of Far Far Away (1965)</td>\n",
       "      <td>Adventure|Animation|Children|Fantasy</td>\n",
       "      <td>269988.686345</td>\n",
       "    </tr>\n",
       "    <tr>\n",
       "      <th>1504</th>\n",
       "      <td>2033</td>\n",
       "      <td>Black Cauldron, The (1985)</td>\n",
       "      <td>Adventure|Animation|Children|Fantasy</td>\n",
       "      <td>269988.686345</td>\n",
       "    </tr>\n",
       "    <tr>\n",
       "      <th>9351</th>\n",
       "      <td>162578</td>\n",
       "      <td>Kubo and the Two Strings (2016)</td>\n",
       "      <td>Adventure|Animation|Children|Fantasy</td>\n",
       "      <td>269988.686345</td>\n",
       "    </tr>\n",
       "    <tr>\n",
       "      <th>4009</th>\n",
       "      <td>5672</td>\n",
       "      <td>Pokemon 4 Ever (a.k.a. Pokémon 4: The Movie) (...</td>\n",
       "      <td>Adventure|Animation|Children|Fantasy</td>\n",
       "      <td>269988.686345</td>\n",
       "    </tr>\n",
       "    <tr>\n",
       "      <th>3331</th>\n",
       "      <td>4519</td>\n",
       "      <td>Land Before Time, The (1988)</td>\n",
       "      <td>Adventure|Animation|Children|Fantasy</td>\n",
       "      <td>269988.686345</td>\n",
       "    </tr>\n",
       "    <tr>\n",
       "      <th>3225</th>\n",
       "      <td>4366</td>\n",
       "      <td>Atlantis: The Lost Empire (2001)</td>\n",
       "      <td>Adventure|Animation|Children|Fantasy</td>\n",
       "      <td>269988.686345</td>\n",
       "    </tr>\n",
       "    <tr>\n",
       "      <th>5673</th>\n",
       "      <td>27731</td>\n",
       "      <td>Cat Returns, The (Neko no ongaeshi) (2002)</td>\n",
       "      <td>Adventure|Animation|Children|Fantasy</td>\n",
       "      <td>269988.686345</td>\n",
       "    </tr>\n",
       "    <tr>\n",
       "      <th>2536</th>\n",
       "      <td>3400</td>\n",
       "      <td>We're Back! A Dinosaur's Story (1993)</td>\n",
       "      <td>Adventure|Animation|Children|Fantasy</td>\n",
       "      <td>269988.686345</td>\n",
       "    </tr>\n",
       "    <tr>\n",
       "      <th>4418</th>\n",
       "      <td>6536</td>\n",
       "      <td>Sinbad: Legend of the Seven Seas (2003)</td>\n",
       "      <td>Adventure|Animation|Children|Fantasy</td>\n",
       "      <td>269988.686345</td>\n",
       "    </tr>\n",
       "    <tr>\n",
       "      <th>6927</th>\n",
       "      <td>65261</td>\n",
       "      <td>Ponyo (Gake no ue no Ponyo) (2008)</td>\n",
       "      <td>Adventure|Animation|Children|Fantasy</td>\n",
       "      <td>269988.686345</td>\n",
       "    </tr>\n",
       "    <tr>\n",
       "      <th>6431</th>\n",
       "      <td>51939</td>\n",
       "      <td>TMNT (Teenage Mutant Ninja Turtles) (2007)</td>\n",
       "      <td>Action|Adventure|Animation|Children|Comedy|Fan...</td>\n",
       "      <td>349119.246747</td>\n",
       "    </tr>\n",
       "  </tbody>\n",
       "</table>\n",
       "</div>"
      ],
      "text/plain": [
       "          id                                               name  \\\n",
       "8882  134853                                  Inside Out (2015)   \n",
       "1576    2116                      Lord of the Rings, The (1978)   \n",
       "5611   27186  Kirikou and the Sorceress (Kirikou et la sorci...   \n",
       "5077    8015                      Phantom Tollbooth, The (1970)   \n",
       "9526  172793        Vovka in the Kingdom of Far Far Away (1965)   \n",
       "1504    2033                         Black Cauldron, The (1985)   \n",
       "9351  162578                    Kubo and the Two Strings (2016)   \n",
       "4009    5672  Pokemon 4 Ever (a.k.a. Pokémon 4: The Movie) (...   \n",
       "3331    4519                       Land Before Time, The (1988)   \n",
       "3225    4366                   Atlantis: The Lost Empire (2001)   \n",
       "5673   27731         Cat Returns, The (Neko no ongaeshi) (2002)   \n",
       "2536    3400              We're Back! A Dinosaur's Story (1993)   \n",
       "4418    6536            Sinbad: Legend of the Seven Seas (2003)   \n",
       "6927   65261                 Ponyo (Gake no ue no Ponyo) (2008)   \n",
       "6431   51939         TMNT (Teenage Mutant Ninja Turtles) (2007)   \n",
       "\n",
       "                                                  genre           dist  \n",
       "8882  Adventure|Animation|Children|Comedy|Drama|Fantasy  241862.724582  \n",
       "1576               Adventure|Animation|Children|Fantasy  269988.686345  \n",
       "5611               Adventure|Animation|Children|Fantasy  269988.686345  \n",
       "5077               Adventure|Animation|Children|Fantasy  269988.686345  \n",
       "9526               Adventure|Animation|Children|Fantasy  269988.686345  \n",
       "1504               Adventure|Animation|Children|Fantasy  269988.686345  \n",
       "9351               Adventure|Animation|Children|Fantasy  269988.686345  \n",
       "4009               Adventure|Animation|Children|Fantasy  269988.686345  \n",
       "3331               Adventure|Animation|Children|Fantasy  269988.686345  \n",
       "3225               Adventure|Animation|Children|Fantasy  269988.686345  \n",
       "5673               Adventure|Animation|Children|Fantasy  269988.686345  \n",
       "2536               Adventure|Animation|Children|Fantasy  269988.686345  \n",
       "4418               Adventure|Animation|Children|Fantasy  269988.686345  \n",
       "6927               Adventure|Animation|Children|Fantasy  269988.686345  \n",
       "6431  Action|Adventure|Animation|Children|Comedy|Fan...  349119.246747  "
      ]
     },
     "execution_count": 131,
     "metadata": {},
     "output_type": "execute_result"
    }
   ],
   "source": [
    "rec2 = skr1.recommend_for_single_object(15, Toy_Story_matrix, cos_flag = False)\n",
    "rec2"
   ]
  },
  {
   "cell_type": "code",
   "execution_count": 132,
   "id": "54845911",
   "metadata": {},
   "outputs": [
    {
     "data": {
      "text/html": [
       "<div>\n",
       "<style scoped>\n",
       "    .dataframe tbody tr th:only-of-type {\n",
       "        vertical-align: middle;\n",
       "    }\n",
       "\n",
       "    .dataframe tbody tr th {\n",
       "        vertical-align: top;\n",
       "    }\n",
       "\n",
       "    .dataframe thead th {\n",
       "        text-align: right;\n",
       "    }\n",
       "</style>\n",
       "<table border=\"1\" class=\"dataframe\">\n",
       "  <thead>\n",
       "    <tr style=\"text-align: right;\">\n",
       "      <th></th>\n",
       "      <th>id</th>\n",
       "      <th>name</th>\n",
       "      <th>genre</th>\n",
       "      <th>dist</th>\n",
       "    </tr>\n",
       "  </thead>\n",
       "  <tbody>\n",
       "    <tr>\n",
       "      <th>8882</th>\n",
       "      <td>134853</td>\n",
       "      <td>Inside Out (2015)</td>\n",
       "      <td>Adventure|Animation|Children|Comedy|Drama|Fantasy</td>\n",
       "      <td>304097.339211</td>\n",
       "    </tr>\n",
       "    <tr>\n",
       "      <th>9526</th>\n",
       "      <td>172793</td>\n",
       "      <td>Vovka in the Kingdom of Far Far Away (1965)</td>\n",
       "      <td>Adventure|Animation|Children|Fantasy</td>\n",
       "      <td>340177.899954</td>\n",
       "    </tr>\n",
       "    <tr>\n",
       "      <th>5077</th>\n",
       "      <td>8015</td>\n",
       "      <td>Phantom Tollbooth, The (1970)</td>\n",
       "      <td>Adventure|Animation|Children|Fantasy</td>\n",
       "      <td>340177.899954</td>\n",
       "    </tr>\n",
       "    <tr>\n",
       "      <th>2536</th>\n",
       "      <td>3400</td>\n",
       "      <td>We're Back! A Dinosaur's Story (1993)</td>\n",
       "      <td>Adventure|Animation|Children|Fantasy</td>\n",
       "      <td>340177.899954</td>\n",
       "    </tr>\n",
       "    <tr>\n",
       "      <th>1504</th>\n",
       "      <td>2033</td>\n",
       "      <td>Black Cauldron, The (1985)</td>\n",
       "      <td>Adventure|Animation|Children|Fantasy</td>\n",
       "      <td>340177.899954</td>\n",
       "    </tr>\n",
       "    <tr>\n",
       "      <th>3331</th>\n",
       "      <td>4519</td>\n",
       "      <td>Land Before Time, The (1988)</td>\n",
       "      <td>Adventure|Animation|Children|Fantasy</td>\n",
       "      <td>340177.899954</td>\n",
       "    </tr>\n",
       "    <tr>\n",
       "      <th>4418</th>\n",
       "      <td>6536</td>\n",
       "      <td>Sinbad: Legend of the Seven Seas (2003)</td>\n",
       "      <td>Adventure|Animation|Children|Fantasy</td>\n",
       "      <td>340177.899954</td>\n",
       "    </tr>\n",
       "    <tr>\n",
       "      <th>9351</th>\n",
       "      <td>162578</td>\n",
       "      <td>Kubo and the Two Strings (2016)</td>\n",
       "      <td>Adventure|Animation|Children|Fantasy</td>\n",
       "      <td>340177.899954</td>\n",
       "    </tr>\n",
       "    <tr>\n",
       "      <th>5611</th>\n",
       "      <td>27186</td>\n",
       "      <td>Kirikou and the Sorceress (Kirikou et la sorci...</td>\n",
       "      <td>Adventure|Animation|Children|Fantasy</td>\n",
       "      <td>340177.899954</td>\n",
       "    </tr>\n",
       "    <tr>\n",
       "      <th>3225</th>\n",
       "      <td>4366</td>\n",
       "      <td>Atlantis: The Lost Empire (2001)</td>\n",
       "      <td>Adventure|Animation|Children|Fantasy</td>\n",
       "      <td>340177.899954</td>\n",
       "    </tr>\n",
       "    <tr>\n",
       "      <th>5673</th>\n",
       "      <td>27731</td>\n",
       "      <td>Cat Returns, The (Neko no ongaeshi) (2002)</td>\n",
       "      <td>Adventure|Animation|Children|Fantasy</td>\n",
       "      <td>340177.899954</td>\n",
       "    </tr>\n",
       "    <tr>\n",
       "      <th>4009</th>\n",
       "      <td>5672</td>\n",
       "      <td>Pokemon 4 Ever (a.k.a. Pokémon 4: The Movie) (...</td>\n",
       "      <td>Adventure|Animation|Children|Fantasy</td>\n",
       "      <td>340177.899954</td>\n",
       "    </tr>\n",
       "    <tr>\n",
       "      <th>6927</th>\n",
       "      <td>65261</td>\n",
       "      <td>Ponyo (Gake no ue no Ponyo) (2008)</td>\n",
       "      <td>Adventure|Animation|Children|Fantasy</td>\n",
       "      <td>340177.899954</td>\n",
       "    </tr>\n",
       "    <tr>\n",
       "      <th>1576</th>\n",
       "      <td>2116</td>\n",
       "      <td>Lord of the Rings, The (1978)</td>\n",
       "      <td>Adventure|Animation|Children|Fantasy</td>\n",
       "      <td>340177.899954</td>\n",
       "    </tr>\n",
       "    <tr>\n",
       "      <th>5477</th>\n",
       "      <td>26340</td>\n",
       "      <td>Twelve Tasks of Asterix, The (Les douze travau...</td>\n",
       "      <td>Action|Adventure|Animation|Children|Comedy|Fan...</td>\n",
       "      <td>477128.215724</td>\n",
       "    </tr>\n",
       "  </tbody>\n",
       "</table>\n",
       "</div>"
      ],
      "text/plain": [
       "          id                                               name  \\\n",
       "8882  134853                                  Inside Out (2015)   \n",
       "9526  172793        Vovka in the Kingdom of Far Far Away (1965)   \n",
       "5077    8015                      Phantom Tollbooth, The (1970)   \n",
       "2536    3400              We're Back! A Dinosaur's Story (1993)   \n",
       "1504    2033                         Black Cauldron, The (1985)   \n",
       "3331    4519                       Land Before Time, The (1988)   \n",
       "4418    6536            Sinbad: Legend of the Seven Seas (2003)   \n",
       "9351  162578                    Kubo and the Two Strings (2016)   \n",
       "5611   27186  Kirikou and the Sorceress (Kirikou et la sorci...   \n",
       "3225    4366                   Atlantis: The Lost Empire (2001)   \n",
       "5673   27731         Cat Returns, The (Neko no ongaeshi) (2002)   \n",
       "4009    5672  Pokemon 4 Ever (a.k.a. Pokémon 4: The Movie) (...   \n",
       "6927   65261                 Ponyo (Gake no ue no Ponyo) (2008)   \n",
       "1576    2116                      Lord of the Rings, The (1978)   \n",
       "5477   26340  Twelve Tasks of Asterix, The (Les douze travau...   \n",
       "\n",
       "                                                  genre           dist  \n",
       "8882  Adventure|Animation|Children|Comedy|Drama|Fantasy  304097.339211  \n",
       "9526               Adventure|Animation|Children|Fantasy  340177.899954  \n",
       "5077               Adventure|Animation|Children|Fantasy  340177.899954  \n",
       "2536               Adventure|Animation|Children|Fantasy  340177.899954  \n",
       "1504               Adventure|Animation|Children|Fantasy  340177.899954  \n",
       "3331               Adventure|Animation|Children|Fantasy  340177.899954  \n",
       "4418               Adventure|Animation|Children|Fantasy  340177.899954  \n",
       "9351               Adventure|Animation|Children|Fantasy  340177.899954  \n",
       "5611               Adventure|Animation|Children|Fantasy  340177.899954  \n",
       "3225               Adventure|Animation|Children|Fantasy  340177.899954  \n",
       "5673               Adventure|Animation|Children|Fantasy  340177.899954  \n",
       "4009               Adventure|Animation|Children|Fantasy  340177.899954  \n",
       "6927               Adventure|Animation|Children|Fantasy  340177.899954  \n",
       "1576               Adventure|Animation|Children|Fantasy  340177.899954  \n",
       "5477  Action|Adventure|Animation|Children|Comedy|Fan...  477128.215724  "
      ]
     },
     "execution_count": 132,
     "metadata": {},
     "output_type": "execute_result"
    }
   ],
   "source": [
    "rec3 = skr1.recommend_for_single_object(15, Toy_Story_matrix, \n",
    "                                        cos_flag = False, manh_flag = True)\n",
    "rec3"
   ]
  },
  {
   "cell_type": "markdown",
   "id": "3a5595e1",
   "metadata": {},
   "source": [
    "Как видите, все три метода вычисления расстояний дают правильные результаты. Рекомендуемые фильмы содержат ключевое слово того же типа."
   ]
  },
  {
   "cell_type": "markdown",
   "id": "50648178",
   "metadata": {},
   "source": [
    "3.2 Коллаборативная фильтрация"
   ]
  },
  {
   "cell_type": "code",
   "execution_count": 133,
   "id": "b3e07456",
   "metadata": {},
   "outputs": [
    {
     "data": {
      "text/plain": [
       "610"
      ]
     },
     "execution_count": 133,
     "metadata": {},
     "output_type": "execute_result"
    }
   ],
   "source": [
    "len(df_ratings['userId'].unique())# Количество уникальных пользователей"
   ]
  },
  {
   "cell_type": "code",
   "execution_count": 134,
   "id": "083cdccd",
   "metadata": {},
   "outputs": [
    {
     "data": {
      "text/plain": [
       "9724"
      ]
     },
     "execution_count": 134,
     "metadata": {},
     "output_type": "execute_result"
    }
   ],
   "source": [
    "len(df_ratings['movieId'].unique())# Количество уникальных аниме"
   ]
  },
  {
   "cell_type": "code",
   "execution_count": 135,
   "id": "64d21ca5",
   "metadata": {},
   "outputs": [],
   "source": [
    "def create_utility_matrix(data):\n",
    "    itemField = 'movieId'\n",
    "    userField = 'userId'\n",
    "    valueField = 'rating'  \n",
    "    \n",
    "    userList = data[userField].tolist()\n",
    "    itemList = data[itemField].tolist()\n",
    "    valueList = data[valueField].tolist()    \n",
    "    \n",
    "    users = list(set(userList))\n",
    "    items = list(set(itemList))    \n",
    "    \n",
    "    users_index = {users[i]: i for i in range(len(users))}    \n",
    "    pd_dict = {item: [0.0 for i in range(len(users))] for item in items}    \n",
    "    \n",
    "    for i in range(0,data.shape[0]):\n",
    "        item = itemList[i]\n",
    "        user = userList[i]\n",
    "        value = valueList[i]    \n",
    "        pd_dict[item][users_index[user]] = value    \n",
    "    \n",
    "    X = pd.DataFrame(pd_dict)\n",
    "    X.index = users\n",
    "        \n",
    "    itemcols = list(X.columns)\n",
    "    items_index = {itemcols[i]: i for i in range(len(itemcols))}\n",
    "    \n",
    "    return X, users_index, items_index"
   ]
  },
  {
   "cell_type": "code",
   "execution_count": 136,
   "id": "3892bd4f",
   "metadata": {},
   "outputs": [
    {
     "name": "stdout",
     "output_type": "stream",
     "text": [
      "Wall time: 1.02 s\n"
     ]
    }
   ],
   "source": [
    "%%time\n",
    "user_item_matrix, users_index, items_index = create_utility_matrix(df_ratings)"
   ]
  },
  {
   "cell_type": "code",
   "execution_count": 137,
   "id": "c3eefa51",
   "metadata": {},
   "outputs": [
    {
     "data": {
      "text/html": [
       "<div>\n",
       "<style scoped>\n",
       "    .dataframe tbody tr th:only-of-type {\n",
       "        vertical-align: middle;\n",
       "    }\n",
       "\n",
       "    .dataframe tbody tr th {\n",
       "        vertical-align: top;\n",
       "    }\n",
       "\n",
       "    .dataframe thead th {\n",
       "        text-align: right;\n",
       "    }\n",
       "</style>\n",
       "<table border=\"1\" class=\"dataframe\">\n",
       "  <thead>\n",
       "    <tr style=\"text-align: right;\">\n",
       "      <th></th>\n",
       "      <th>1</th>\n",
       "      <th>2</th>\n",
       "      <th>3</th>\n",
       "      <th>4</th>\n",
       "      <th>5</th>\n",
       "      <th>6</th>\n",
       "      <th>7</th>\n",
       "      <th>8</th>\n",
       "      <th>9</th>\n",
       "      <th>10</th>\n",
       "      <th>...</th>\n",
       "      <th>98239</th>\n",
       "      <th>98243</th>\n",
       "      <th>131013</th>\n",
       "      <th>131023</th>\n",
       "      <th>32728</th>\n",
       "      <th>163809</th>\n",
       "      <th>98279</th>\n",
       "      <th>32743</th>\n",
       "      <th>65514</th>\n",
       "      <th>98296</th>\n",
       "    </tr>\n",
       "  </thead>\n",
       "  <tbody>\n",
       "    <tr>\n",
       "      <th>1</th>\n",
       "      <td>4.0</td>\n",
       "      <td>0.0</td>\n",
       "      <td>4.0</td>\n",
       "      <td>0.0</td>\n",
       "      <td>0.0</td>\n",
       "      <td>4.0</td>\n",
       "      <td>0.0</td>\n",
       "      <td>0.0</td>\n",
       "      <td>0.0</td>\n",
       "      <td>0.0</td>\n",
       "      <td>...</td>\n",
       "      <td>0.0</td>\n",
       "      <td>0.0</td>\n",
       "      <td>0.0</td>\n",
       "      <td>0.0</td>\n",
       "      <td>0.0</td>\n",
       "      <td>0.0</td>\n",
       "      <td>0.0</td>\n",
       "      <td>0.0</td>\n",
       "      <td>0.0</td>\n",
       "      <td>0.0</td>\n",
       "    </tr>\n",
       "    <tr>\n",
       "      <th>2</th>\n",
       "      <td>0.0</td>\n",
       "      <td>0.0</td>\n",
       "      <td>0.0</td>\n",
       "      <td>0.0</td>\n",
       "      <td>0.0</td>\n",
       "      <td>0.0</td>\n",
       "      <td>0.0</td>\n",
       "      <td>0.0</td>\n",
       "      <td>0.0</td>\n",
       "      <td>0.0</td>\n",
       "      <td>...</td>\n",
       "      <td>0.0</td>\n",
       "      <td>0.0</td>\n",
       "      <td>0.0</td>\n",
       "      <td>0.0</td>\n",
       "      <td>0.0</td>\n",
       "      <td>0.0</td>\n",
       "      <td>0.0</td>\n",
       "      <td>0.0</td>\n",
       "      <td>0.0</td>\n",
       "      <td>0.0</td>\n",
       "    </tr>\n",
       "    <tr>\n",
       "      <th>3</th>\n",
       "      <td>0.0</td>\n",
       "      <td>0.0</td>\n",
       "      <td>0.0</td>\n",
       "      <td>0.0</td>\n",
       "      <td>0.0</td>\n",
       "      <td>0.0</td>\n",
       "      <td>0.0</td>\n",
       "      <td>0.0</td>\n",
       "      <td>0.0</td>\n",
       "      <td>0.0</td>\n",
       "      <td>...</td>\n",
       "      <td>0.0</td>\n",
       "      <td>0.0</td>\n",
       "      <td>0.0</td>\n",
       "      <td>0.0</td>\n",
       "      <td>0.0</td>\n",
       "      <td>0.0</td>\n",
       "      <td>0.0</td>\n",
       "      <td>0.0</td>\n",
       "      <td>0.0</td>\n",
       "      <td>0.0</td>\n",
       "    </tr>\n",
       "    <tr>\n",
       "      <th>4</th>\n",
       "      <td>0.0</td>\n",
       "      <td>0.0</td>\n",
       "      <td>0.0</td>\n",
       "      <td>0.0</td>\n",
       "      <td>0.0</td>\n",
       "      <td>0.0</td>\n",
       "      <td>0.0</td>\n",
       "      <td>0.0</td>\n",
       "      <td>0.0</td>\n",
       "      <td>0.0</td>\n",
       "      <td>...</td>\n",
       "      <td>0.0</td>\n",
       "      <td>0.0</td>\n",
       "      <td>0.0</td>\n",
       "      <td>0.0</td>\n",
       "      <td>0.0</td>\n",
       "      <td>0.0</td>\n",
       "      <td>0.0</td>\n",
       "      <td>0.0</td>\n",
       "      <td>0.0</td>\n",
       "      <td>0.0</td>\n",
       "    </tr>\n",
       "    <tr>\n",
       "      <th>5</th>\n",
       "      <td>4.0</td>\n",
       "      <td>0.0</td>\n",
       "      <td>0.0</td>\n",
       "      <td>0.0</td>\n",
       "      <td>0.0</td>\n",
       "      <td>0.0</td>\n",
       "      <td>0.0</td>\n",
       "      <td>0.0</td>\n",
       "      <td>0.0</td>\n",
       "      <td>0.0</td>\n",
       "      <td>...</td>\n",
       "      <td>0.0</td>\n",
       "      <td>0.0</td>\n",
       "      <td>0.0</td>\n",
       "      <td>0.0</td>\n",
       "      <td>0.0</td>\n",
       "      <td>0.0</td>\n",
       "      <td>0.0</td>\n",
       "      <td>0.0</td>\n",
       "      <td>0.0</td>\n",
       "      <td>0.0</td>\n",
       "    </tr>\n",
       "    <tr>\n",
       "      <th>...</th>\n",
       "      <td>...</td>\n",
       "      <td>...</td>\n",
       "      <td>...</td>\n",
       "      <td>...</td>\n",
       "      <td>...</td>\n",
       "      <td>...</td>\n",
       "      <td>...</td>\n",
       "      <td>...</td>\n",
       "      <td>...</td>\n",
       "      <td>...</td>\n",
       "      <td>...</td>\n",
       "      <td>...</td>\n",
       "      <td>...</td>\n",
       "      <td>...</td>\n",
       "      <td>...</td>\n",
       "      <td>...</td>\n",
       "      <td>...</td>\n",
       "      <td>...</td>\n",
       "      <td>...</td>\n",
       "      <td>...</td>\n",
       "      <td>...</td>\n",
       "    </tr>\n",
       "    <tr>\n",
       "      <th>606</th>\n",
       "      <td>2.5</td>\n",
       "      <td>0.0</td>\n",
       "      <td>0.0</td>\n",
       "      <td>0.0</td>\n",
       "      <td>0.0</td>\n",
       "      <td>0.0</td>\n",
       "      <td>2.5</td>\n",
       "      <td>0.0</td>\n",
       "      <td>0.0</td>\n",
       "      <td>0.0</td>\n",
       "      <td>...</td>\n",
       "      <td>0.0</td>\n",
       "      <td>3.0</td>\n",
       "      <td>0.0</td>\n",
       "      <td>0.0</td>\n",
       "      <td>4.0</td>\n",
       "      <td>0.0</td>\n",
       "      <td>0.0</td>\n",
       "      <td>0.0</td>\n",
       "      <td>0.0</td>\n",
       "      <td>0.0</td>\n",
       "    </tr>\n",
       "    <tr>\n",
       "      <th>607</th>\n",
       "      <td>4.0</td>\n",
       "      <td>0.0</td>\n",
       "      <td>0.0</td>\n",
       "      <td>0.0</td>\n",
       "      <td>0.0</td>\n",
       "      <td>0.0</td>\n",
       "      <td>0.0</td>\n",
       "      <td>0.0</td>\n",
       "      <td>0.0</td>\n",
       "      <td>0.0</td>\n",
       "      <td>...</td>\n",
       "      <td>0.0</td>\n",
       "      <td>0.0</td>\n",
       "      <td>0.0</td>\n",
       "      <td>0.0</td>\n",
       "      <td>0.0</td>\n",
       "      <td>0.0</td>\n",
       "      <td>0.0</td>\n",
       "      <td>0.0</td>\n",
       "      <td>0.0</td>\n",
       "      <td>0.0</td>\n",
       "    </tr>\n",
       "    <tr>\n",
       "      <th>608</th>\n",
       "      <td>2.5</td>\n",
       "      <td>2.0</td>\n",
       "      <td>2.0</td>\n",
       "      <td>0.0</td>\n",
       "      <td>0.0</td>\n",
       "      <td>0.0</td>\n",
       "      <td>0.0</td>\n",
       "      <td>0.0</td>\n",
       "      <td>0.0</td>\n",
       "      <td>4.0</td>\n",
       "      <td>...</td>\n",
       "      <td>0.0</td>\n",
       "      <td>0.0</td>\n",
       "      <td>0.0</td>\n",
       "      <td>0.0</td>\n",
       "      <td>0.0</td>\n",
       "      <td>0.0</td>\n",
       "      <td>0.0</td>\n",
       "      <td>0.0</td>\n",
       "      <td>0.0</td>\n",
       "      <td>0.0</td>\n",
       "    </tr>\n",
       "    <tr>\n",
       "      <th>609</th>\n",
       "      <td>3.0</td>\n",
       "      <td>0.0</td>\n",
       "      <td>0.0</td>\n",
       "      <td>0.0</td>\n",
       "      <td>0.0</td>\n",
       "      <td>0.0</td>\n",
       "      <td>0.0</td>\n",
       "      <td>0.0</td>\n",
       "      <td>0.0</td>\n",
       "      <td>4.0</td>\n",
       "      <td>...</td>\n",
       "      <td>0.0</td>\n",
       "      <td>0.0</td>\n",
       "      <td>0.0</td>\n",
       "      <td>0.0</td>\n",
       "      <td>0.0</td>\n",
       "      <td>0.0</td>\n",
       "      <td>0.0</td>\n",
       "      <td>0.0</td>\n",
       "      <td>0.0</td>\n",
       "      <td>0.0</td>\n",
       "    </tr>\n",
       "    <tr>\n",
       "      <th>610</th>\n",
       "      <td>5.0</td>\n",
       "      <td>0.0</td>\n",
       "      <td>0.0</td>\n",
       "      <td>0.0</td>\n",
       "      <td>0.0</td>\n",
       "      <td>5.0</td>\n",
       "      <td>0.0</td>\n",
       "      <td>0.0</td>\n",
       "      <td>0.0</td>\n",
       "      <td>0.0</td>\n",
       "      <td>...</td>\n",
       "      <td>2.0</td>\n",
       "      <td>0.0</td>\n",
       "      <td>0.0</td>\n",
       "      <td>0.0</td>\n",
       "      <td>0.0</td>\n",
       "      <td>0.0</td>\n",
       "      <td>0.0</td>\n",
       "      <td>0.0</td>\n",
       "      <td>4.0</td>\n",
       "      <td>0.0</td>\n",
       "    </tr>\n",
       "  </tbody>\n",
       "</table>\n",
       "<p>610 rows × 9724 columns</p>\n",
       "</div>"
      ],
      "text/plain": [
       "     1       2       3       4       5       6       7       8       9       \\\n",
       "1       4.0     0.0     4.0     0.0     0.0     4.0     0.0     0.0     0.0   \n",
       "2       0.0     0.0     0.0     0.0     0.0     0.0     0.0     0.0     0.0   \n",
       "3       0.0     0.0     0.0     0.0     0.0     0.0     0.0     0.0     0.0   \n",
       "4       0.0     0.0     0.0     0.0     0.0     0.0     0.0     0.0     0.0   \n",
       "5       4.0     0.0     0.0     0.0     0.0     0.0     0.0     0.0     0.0   \n",
       "..      ...     ...     ...     ...     ...     ...     ...     ...     ...   \n",
       "606     2.5     0.0     0.0     0.0     0.0     0.0     2.5     0.0     0.0   \n",
       "607     4.0     0.0     0.0     0.0     0.0     0.0     0.0     0.0     0.0   \n",
       "608     2.5     2.0     2.0     0.0     0.0     0.0     0.0     0.0     0.0   \n",
       "609     3.0     0.0     0.0     0.0     0.0     0.0     0.0     0.0     0.0   \n",
       "610     5.0     0.0     0.0     0.0     0.0     5.0     0.0     0.0     0.0   \n",
       "\n",
       "     10      ...  98239   98243   131013  131023  32728   163809  98279   \\\n",
       "1       0.0  ...     0.0     0.0     0.0     0.0     0.0     0.0     0.0   \n",
       "2       0.0  ...     0.0     0.0     0.0     0.0     0.0     0.0     0.0   \n",
       "3       0.0  ...     0.0     0.0     0.0     0.0     0.0     0.0     0.0   \n",
       "4       0.0  ...     0.0     0.0     0.0     0.0     0.0     0.0     0.0   \n",
       "5       0.0  ...     0.0     0.0     0.0     0.0     0.0     0.0     0.0   \n",
       "..      ...  ...     ...     ...     ...     ...     ...     ...     ...   \n",
       "606     0.0  ...     0.0     3.0     0.0     0.0     4.0     0.0     0.0   \n",
       "607     0.0  ...     0.0     0.0     0.0     0.0     0.0     0.0     0.0   \n",
       "608     4.0  ...     0.0     0.0     0.0     0.0     0.0     0.0     0.0   \n",
       "609     4.0  ...     0.0     0.0     0.0     0.0     0.0     0.0     0.0   \n",
       "610     0.0  ...     2.0     0.0     0.0     0.0     0.0     0.0     0.0   \n",
       "\n",
       "     32743   65514   98296   \n",
       "1       0.0     0.0     0.0  \n",
       "2       0.0     0.0     0.0  \n",
       "3       0.0     0.0     0.0  \n",
       "4       0.0     0.0     0.0  \n",
       "5       0.0     0.0     0.0  \n",
       "..      ...     ...     ...  \n",
       "606     0.0     0.0     0.0  \n",
       "607     0.0     0.0     0.0  \n",
       "608     0.0     0.0     0.0  \n",
       "609     0.0     0.0     0.0  \n",
       "610     0.0     4.0     0.0  \n",
       "\n",
       "[610 rows x 9724 columns]"
      ]
     },
     "execution_count": 137,
     "metadata": {},
     "output_type": "execute_result"
    }
   ],
   "source": [
    "user_item_matrix"
   ]
  },
  {
   "cell_type": "markdown",
   "id": "ebd2e072",
   "metadata": {},
   "source": [
    "Посмотрите, как пользователи оценили фильм 《Toy_Story》"
   ]
  },
  {
   "cell_type": "code",
   "execution_count": 138,
   "id": "da0b3e03",
   "metadata": {},
   "outputs": [
    {
     "name": "stdout",
     "output_type": "stream",
     "text": [
      "       userId  rating\n",
      "0           1     4.0\n",
      "516         5     4.0\n",
      "874         7     4.5\n",
      "1434       15     2.5\n",
      "1667       17     4.5\n",
      "...       ...     ...\n",
      "97364     606     2.5\n",
      "98479     607     4.0\n",
      "98666     608     2.5\n",
      "99497     609     3.0\n",
      "99534     610     5.0\n",
      "\n",
      "[215 rows x 2 columns]\n"
     ]
    }
   ],
   "source": [
    "print(df_ratings.loc[df_ratings['movieId']==1,['userId','rating']])"
   ]
  },
  {
   "cell_type": "markdown",
   "id": "c8127ea5",
   "metadata": {},
   "source": [
    "Выбрать пользователей, которые дали 5 баллов для «Toy_Story», в качестве тестовых объектов для рекомендательной системы.\n",
    "Выбрать user_id = 610"
   ]
  },
  {
   "cell_type": "code",
   "execution_count": 139,
   "id": "bad11088",
   "metadata": {},
   "outputs": [
    {
     "data": {
      "text/html": [
       "<div>\n",
       "<style scoped>\n",
       "    .dataframe tbody tr th:only-of-type {\n",
       "        vertical-align: middle;\n",
       "    }\n",
       "\n",
       "    .dataframe tbody tr th {\n",
       "        vertical-align: top;\n",
       "    }\n",
       "\n",
       "    .dataframe thead th {\n",
       "        text-align: right;\n",
       "    }\n",
       "</style>\n",
       "<table border=\"1\" class=\"dataframe\">\n",
       "  <thead>\n",
       "    <tr style=\"text-align: right;\">\n",
       "      <th></th>\n",
       "      <th>1</th>\n",
       "      <th>2</th>\n",
       "      <th>3</th>\n",
       "      <th>4</th>\n",
       "      <th>5</th>\n",
       "      <th>6</th>\n",
       "      <th>7</th>\n",
       "      <th>8</th>\n",
       "      <th>9</th>\n",
       "      <th>10</th>\n",
       "      <th>...</th>\n",
       "      <th>98239</th>\n",
       "      <th>98243</th>\n",
       "      <th>131013</th>\n",
       "      <th>131023</th>\n",
       "      <th>32728</th>\n",
       "      <th>163809</th>\n",
       "      <th>98279</th>\n",
       "      <th>32743</th>\n",
       "      <th>65514</th>\n",
       "      <th>98296</th>\n",
       "    </tr>\n",
       "  </thead>\n",
       "  <tbody>\n",
       "    <tr>\n",
       "      <th>610</th>\n",
       "      <td>5.0</td>\n",
       "      <td>0.0</td>\n",
       "      <td>0.0</td>\n",
       "      <td>0.0</td>\n",
       "      <td>0.0</td>\n",
       "      <td>5.0</td>\n",
       "      <td>0.0</td>\n",
       "      <td>0.0</td>\n",
       "      <td>0.0</td>\n",
       "      <td>0.0</td>\n",
       "      <td>...</td>\n",
       "      <td>2.0</td>\n",
       "      <td>0.0</td>\n",
       "      <td>0.0</td>\n",
       "      <td>0.0</td>\n",
       "      <td>0.0</td>\n",
       "      <td>0.0</td>\n",
       "      <td>0.0</td>\n",
       "      <td>0.0</td>\n",
       "      <td>4.0</td>\n",
       "      <td>0.0</td>\n",
       "    </tr>\n",
       "  </tbody>\n",
       "</table>\n",
       "<p>1 rows × 9724 columns</p>\n",
       "</div>"
      ],
      "text/plain": [
       "     1       2       3       4       5       6       7       8       9       \\\n",
       "610     5.0     0.0     0.0     0.0     0.0     5.0     0.0     0.0     0.0   \n",
       "\n",
       "     10      ...  98239   98243   131013  131023  32728   163809  98279   \\\n",
       "610     0.0  ...     2.0     0.0     0.0     0.0     0.0     0.0     0.0   \n",
       "\n",
       "     32743   65514   98296   \n",
       "610     0.0     4.0     0.0  \n",
       "\n",
       "[1 rows x 9724 columns]"
      ]
     },
     "execution_count": 139,
     "metadata": {},
     "output_type": "execute_result"
    }
   ],
   "source": [
    "user_item_matrix__test = user_item_matrix.loc[[610]]\n",
    "user_item_matrix__test"
   ]
  },
  {
   "cell_type": "code",
   "execution_count": 140,
   "id": "bf6b68ae",
   "metadata": {},
   "outputs": [
    {
     "data": {
      "text/html": [
       "<div>\n",
       "<style scoped>\n",
       "    .dataframe tbody tr th:only-of-type {\n",
       "        vertical-align: middle;\n",
       "    }\n",
       "\n",
       "    .dataframe tbody tr th {\n",
       "        vertical-align: top;\n",
       "    }\n",
       "\n",
       "    .dataframe thead th {\n",
       "        text-align: right;\n",
       "    }\n",
       "</style>\n",
       "<table border=\"1\" class=\"dataframe\">\n",
       "  <thead>\n",
       "    <tr style=\"text-align: right;\">\n",
       "      <th></th>\n",
       "      <th>1</th>\n",
       "      <th>2</th>\n",
       "      <th>3</th>\n",
       "      <th>4</th>\n",
       "      <th>5</th>\n",
       "      <th>6</th>\n",
       "      <th>7</th>\n",
       "      <th>8</th>\n",
       "      <th>9</th>\n",
       "      <th>10</th>\n",
       "      <th>...</th>\n",
       "      <th>98239</th>\n",
       "      <th>98243</th>\n",
       "      <th>131013</th>\n",
       "      <th>131023</th>\n",
       "      <th>32728</th>\n",
       "      <th>163809</th>\n",
       "      <th>98279</th>\n",
       "      <th>32743</th>\n",
       "      <th>65514</th>\n",
       "      <th>98296</th>\n",
       "    </tr>\n",
       "  </thead>\n",
       "  <tbody>\n",
       "    <tr>\n",
       "      <th>1</th>\n",
       "      <td>4.0</td>\n",
       "      <td>0.0</td>\n",
       "      <td>4.0</td>\n",
       "      <td>0.0</td>\n",
       "      <td>0.0</td>\n",
       "      <td>4.0</td>\n",
       "      <td>0.0</td>\n",
       "      <td>0.0</td>\n",
       "      <td>0.0</td>\n",
       "      <td>0.0</td>\n",
       "      <td>...</td>\n",
       "      <td>0.0</td>\n",
       "      <td>0.0</td>\n",
       "      <td>0.0</td>\n",
       "      <td>0.0</td>\n",
       "      <td>0.0</td>\n",
       "      <td>0.0</td>\n",
       "      <td>0.0</td>\n",
       "      <td>0.0</td>\n",
       "      <td>0.0</td>\n",
       "      <td>0.0</td>\n",
       "    </tr>\n",
       "    <tr>\n",
       "      <th>2</th>\n",
       "      <td>0.0</td>\n",
       "      <td>0.0</td>\n",
       "      <td>0.0</td>\n",
       "      <td>0.0</td>\n",
       "      <td>0.0</td>\n",
       "      <td>0.0</td>\n",
       "      <td>0.0</td>\n",
       "      <td>0.0</td>\n",
       "      <td>0.0</td>\n",
       "      <td>0.0</td>\n",
       "      <td>...</td>\n",
       "      <td>0.0</td>\n",
       "      <td>0.0</td>\n",
       "      <td>0.0</td>\n",
       "      <td>0.0</td>\n",
       "      <td>0.0</td>\n",
       "      <td>0.0</td>\n",
       "      <td>0.0</td>\n",
       "      <td>0.0</td>\n",
       "      <td>0.0</td>\n",
       "      <td>0.0</td>\n",
       "    </tr>\n",
       "    <tr>\n",
       "      <th>3</th>\n",
       "      <td>0.0</td>\n",
       "      <td>0.0</td>\n",
       "      <td>0.0</td>\n",
       "      <td>0.0</td>\n",
       "      <td>0.0</td>\n",
       "      <td>0.0</td>\n",
       "      <td>0.0</td>\n",
       "      <td>0.0</td>\n",
       "      <td>0.0</td>\n",
       "      <td>0.0</td>\n",
       "      <td>...</td>\n",
       "      <td>0.0</td>\n",
       "      <td>0.0</td>\n",
       "      <td>0.0</td>\n",
       "      <td>0.0</td>\n",
       "      <td>0.0</td>\n",
       "      <td>0.0</td>\n",
       "      <td>0.0</td>\n",
       "      <td>0.0</td>\n",
       "      <td>0.0</td>\n",
       "      <td>0.0</td>\n",
       "    </tr>\n",
       "    <tr>\n",
       "      <th>4</th>\n",
       "      <td>0.0</td>\n",
       "      <td>0.0</td>\n",
       "      <td>0.0</td>\n",
       "      <td>0.0</td>\n",
       "      <td>0.0</td>\n",
       "      <td>0.0</td>\n",
       "      <td>0.0</td>\n",
       "      <td>0.0</td>\n",
       "      <td>0.0</td>\n",
       "      <td>0.0</td>\n",
       "      <td>...</td>\n",
       "      <td>0.0</td>\n",
       "      <td>0.0</td>\n",
       "      <td>0.0</td>\n",
       "      <td>0.0</td>\n",
       "      <td>0.0</td>\n",
       "      <td>0.0</td>\n",
       "      <td>0.0</td>\n",
       "      <td>0.0</td>\n",
       "      <td>0.0</td>\n",
       "      <td>0.0</td>\n",
       "    </tr>\n",
       "    <tr>\n",
       "      <th>5</th>\n",
       "      <td>4.0</td>\n",
       "      <td>0.0</td>\n",
       "      <td>0.0</td>\n",
       "      <td>0.0</td>\n",
       "      <td>0.0</td>\n",
       "      <td>0.0</td>\n",
       "      <td>0.0</td>\n",
       "      <td>0.0</td>\n",
       "      <td>0.0</td>\n",
       "      <td>0.0</td>\n",
       "      <td>...</td>\n",
       "      <td>0.0</td>\n",
       "      <td>0.0</td>\n",
       "      <td>0.0</td>\n",
       "      <td>0.0</td>\n",
       "      <td>0.0</td>\n",
       "      <td>0.0</td>\n",
       "      <td>0.0</td>\n",
       "      <td>0.0</td>\n",
       "      <td>0.0</td>\n",
       "      <td>0.0</td>\n",
       "    </tr>\n",
       "    <tr>\n",
       "      <th>...</th>\n",
       "      <td>...</td>\n",
       "      <td>...</td>\n",
       "      <td>...</td>\n",
       "      <td>...</td>\n",
       "      <td>...</td>\n",
       "      <td>...</td>\n",
       "      <td>...</td>\n",
       "      <td>...</td>\n",
       "      <td>...</td>\n",
       "      <td>...</td>\n",
       "      <td>...</td>\n",
       "      <td>...</td>\n",
       "      <td>...</td>\n",
       "      <td>...</td>\n",
       "      <td>...</td>\n",
       "      <td>...</td>\n",
       "      <td>...</td>\n",
       "      <td>...</td>\n",
       "      <td>...</td>\n",
       "      <td>...</td>\n",
       "      <td>...</td>\n",
       "    </tr>\n",
       "    <tr>\n",
       "      <th>605</th>\n",
       "      <td>4.0</td>\n",
       "      <td>3.5</td>\n",
       "      <td>0.0</td>\n",
       "      <td>0.0</td>\n",
       "      <td>0.0</td>\n",
       "      <td>0.0</td>\n",
       "      <td>0.0</td>\n",
       "      <td>0.0</td>\n",
       "      <td>0.0</td>\n",
       "      <td>0.0</td>\n",
       "      <td>...</td>\n",
       "      <td>0.0</td>\n",
       "      <td>0.0</td>\n",
       "      <td>0.0</td>\n",
       "      <td>0.0</td>\n",
       "      <td>0.0</td>\n",
       "      <td>0.0</td>\n",
       "      <td>0.0</td>\n",
       "      <td>0.0</td>\n",
       "      <td>0.0</td>\n",
       "      <td>0.0</td>\n",
       "    </tr>\n",
       "    <tr>\n",
       "      <th>606</th>\n",
       "      <td>2.5</td>\n",
       "      <td>0.0</td>\n",
       "      <td>0.0</td>\n",
       "      <td>0.0</td>\n",
       "      <td>0.0</td>\n",
       "      <td>0.0</td>\n",
       "      <td>2.5</td>\n",
       "      <td>0.0</td>\n",
       "      <td>0.0</td>\n",
       "      <td>0.0</td>\n",
       "      <td>...</td>\n",
       "      <td>0.0</td>\n",
       "      <td>3.0</td>\n",
       "      <td>0.0</td>\n",
       "      <td>0.0</td>\n",
       "      <td>4.0</td>\n",
       "      <td>0.0</td>\n",
       "      <td>0.0</td>\n",
       "      <td>0.0</td>\n",
       "      <td>0.0</td>\n",
       "      <td>0.0</td>\n",
       "    </tr>\n",
       "    <tr>\n",
       "      <th>607</th>\n",
       "      <td>4.0</td>\n",
       "      <td>0.0</td>\n",
       "      <td>0.0</td>\n",
       "      <td>0.0</td>\n",
       "      <td>0.0</td>\n",
       "      <td>0.0</td>\n",
       "      <td>0.0</td>\n",
       "      <td>0.0</td>\n",
       "      <td>0.0</td>\n",
       "      <td>0.0</td>\n",
       "      <td>...</td>\n",
       "      <td>0.0</td>\n",
       "      <td>0.0</td>\n",
       "      <td>0.0</td>\n",
       "      <td>0.0</td>\n",
       "      <td>0.0</td>\n",
       "      <td>0.0</td>\n",
       "      <td>0.0</td>\n",
       "      <td>0.0</td>\n",
       "      <td>0.0</td>\n",
       "      <td>0.0</td>\n",
       "    </tr>\n",
       "    <tr>\n",
       "      <th>608</th>\n",
       "      <td>2.5</td>\n",
       "      <td>2.0</td>\n",
       "      <td>2.0</td>\n",
       "      <td>0.0</td>\n",
       "      <td>0.0</td>\n",
       "      <td>0.0</td>\n",
       "      <td>0.0</td>\n",
       "      <td>0.0</td>\n",
       "      <td>0.0</td>\n",
       "      <td>4.0</td>\n",
       "      <td>...</td>\n",
       "      <td>0.0</td>\n",
       "      <td>0.0</td>\n",
       "      <td>0.0</td>\n",
       "      <td>0.0</td>\n",
       "      <td>0.0</td>\n",
       "      <td>0.0</td>\n",
       "      <td>0.0</td>\n",
       "      <td>0.0</td>\n",
       "      <td>0.0</td>\n",
       "      <td>0.0</td>\n",
       "    </tr>\n",
       "    <tr>\n",
       "      <th>609</th>\n",
       "      <td>3.0</td>\n",
       "      <td>0.0</td>\n",
       "      <td>0.0</td>\n",
       "      <td>0.0</td>\n",
       "      <td>0.0</td>\n",
       "      <td>0.0</td>\n",
       "      <td>0.0</td>\n",
       "      <td>0.0</td>\n",
       "      <td>0.0</td>\n",
       "      <td>4.0</td>\n",
       "      <td>...</td>\n",
       "      <td>0.0</td>\n",
       "      <td>0.0</td>\n",
       "      <td>0.0</td>\n",
       "      <td>0.0</td>\n",
       "      <td>0.0</td>\n",
       "      <td>0.0</td>\n",
       "      <td>0.0</td>\n",
       "      <td>0.0</td>\n",
       "      <td>0.0</td>\n",
       "      <td>0.0</td>\n",
       "    </tr>\n",
       "  </tbody>\n",
       "</table>\n",
       "<p>609 rows × 9724 columns</p>\n",
       "</div>"
      ],
      "text/plain": [
       "     1       2       3       4       5       6       7       8       9       \\\n",
       "1       4.0     0.0     4.0     0.0     0.0     4.0     0.0     0.0     0.0   \n",
       "2       0.0     0.0     0.0     0.0     0.0     0.0     0.0     0.0     0.0   \n",
       "3       0.0     0.0     0.0     0.0     0.0     0.0     0.0     0.0     0.0   \n",
       "4       0.0     0.0     0.0     0.0     0.0     0.0     0.0     0.0     0.0   \n",
       "5       4.0     0.0     0.0     0.0     0.0     0.0     0.0     0.0     0.0   \n",
       "..      ...     ...     ...     ...     ...     ...     ...     ...     ...   \n",
       "605     4.0     3.5     0.0     0.0     0.0     0.0     0.0     0.0     0.0   \n",
       "606     2.5     0.0     0.0     0.0     0.0     0.0     2.5     0.0     0.0   \n",
       "607     4.0     0.0     0.0     0.0     0.0     0.0     0.0     0.0     0.0   \n",
       "608     2.5     2.0     2.0     0.0     0.0     0.0     0.0     0.0     0.0   \n",
       "609     3.0     0.0     0.0     0.0     0.0     0.0     0.0     0.0     0.0   \n",
       "\n",
       "     10      ...  98239   98243   131013  131023  32728   163809  98279   \\\n",
       "1       0.0  ...     0.0     0.0     0.0     0.0     0.0     0.0     0.0   \n",
       "2       0.0  ...     0.0     0.0     0.0     0.0     0.0     0.0     0.0   \n",
       "3       0.0  ...     0.0     0.0     0.0     0.0     0.0     0.0     0.0   \n",
       "4       0.0  ...     0.0     0.0     0.0     0.0     0.0     0.0     0.0   \n",
       "5       0.0  ...     0.0     0.0     0.0     0.0     0.0     0.0     0.0   \n",
       "..      ...  ...     ...     ...     ...     ...     ...     ...     ...   \n",
       "605     0.0  ...     0.0     0.0     0.0     0.0     0.0     0.0     0.0   \n",
       "606     0.0  ...     0.0     3.0     0.0     0.0     4.0     0.0     0.0   \n",
       "607     0.0  ...     0.0     0.0     0.0     0.0     0.0     0.0     0.0   \n",
       "608     4.0  ...     0.0     0.0     0.0     0.0     0.0     0.0     0.0   \n",
       "609     4.0  ...     0.0     0.0     0.0     0.0     0.0     0.0     0.0   \n",
       "\n",
       "     32743   65514   98296   \n",
       "1       0.0     0.0     0.0  \n",
       "2       0.0     0.0     0.0  \n",
       "3       0.0     0.0     0.0  \n",
       "4       0.0     0.0     0.0  \n",
       "5       0.0     0.0     0.0  \n",
       "..      ...     ...     ...  \n",
       "605     0.0     0.0     0.0  \n",
       "606     0.0     0.0     0.0  \n",
       "607     0.0     0.0     0.0  \n",
       "608     0.0     0.0     0.0  \n",
       "609     0.0     0.0     0.0  \n",
       "\n",
       "[609 rows x 9724 columns]"
      ]
     },
     "execution_count": 140,
     "metadata": {},
     "output_type": "execute_result"
    }
   ],
   "source": [
    "user_item_matrix__train = user_item_matrix.loc[:609]\n",
    "user_item_matrix__train"
   ]
  },
  {
   "cell_type": "markdown",
   "id": "cd656c11",
   "metadata": {},
   "source": [
    "Построение модели на основе SVD"
   ]
  },
  {
   "cell_type": "code",
   "execution_count": 141,
   "id": "333a2448",
   "metadata": {},
   "outputs": [
    {
     "name": "stdout",
     "output_type": "stream",
     "text": [
      "Wall time: 3.82 s\n"
     ]
    }
   ],
   "source": [
    "%%time\n",
    "U, S, VT = np.linalg.svd(user_item_matrix__train.T)\n",
    "V = VT.T"
   ]
  },
  {
   "cell_type": "code",
   "execution_count": 142,
   "id": "05ece5ee",
   "metadata": {},
   "outputs": [
    {
     "data": {
      "text/plain": [
       "(9724, 9724)"
      ]
     },
     "execution_count": 142,
     "metadata": {},
     "output_type": "execute_result"
    }
   ],
   "source": [
    "U.shape# 用户和潜在因素之间的关系矩阵"
   ]
  },
  {
   "cell_type": "code",
   "execution_count": 143,
   "id": "b820cfa8",
   "metadata": {},
   "outputs": [
    {
     "data": {
      "text/plain": [
       "(609, 609)"
      ]
     },
     "execution_count": 143,
     "metadata": {},
     "output_type": "execute_result"
    }
   ],
   "source": [
    "V.shape# 对象和潜在因素之间的关系矩阵"
   ]
  },
  {
   "cell_type": "code",
   "execution_count": 144,
   "id": "71d7ca95",
   "metadata": {},
   "outputs": [
    {
     "data": {
      "text/plain": [
       "(609,)"
      ]
     },
     "execution_count": 144,
     "metadata": {},
     "output_type": "execute_result"
    }
   ],
   "source": [
    "S.shape"
   ]
  },
  {
   "cell_type": "code",
   "execution_count": 145,
   "id": "0f643419",
   "metadata": {},
   "outputs": [
    {
     "data": {
      "text/plain": [
       "(609, 609)"
      ]
     },
     "execution_count": 145,
     "metadata": {},
     "output_type": "execute_result"
    }
   ],
   "source": [
    "Sigma = np.diag(S)# 对角奇异值矩阵\n",
    "Sigma.shape"
   ]
  },
  {
   "cell_type": "code",
   "execution_count": 146,
   "id": "cf34b609",
   "metadata": {},
   "outputs": [
    {
     "data": {
      "text/plain": [
       "array([[529.4937201 ,   0.        ,   0.        , ...,   0.        ,\n",
       "          0.        ,   0.        ],\n",
       "       [  0.        , 227.50885376,   0.        , ...,   0.        ,\n",
       "          0.        ,   0.        ],\n",
       "       [  0.        ,   0.        , 190.53715518, ...,   0.        ,\n",
       "          0.        ,   0.        ],\n",
       "       ...,\n",
       "       [  0.        ,   0.        ,   0.        , ...,   3.87425933,\n",
       "          0.        ,   0.        ],\n",
       "       [  0.        ,   0.        ,   0.        , ...,   0.        ,\n",
       "          3.11412817,   0.        ],\n",
       "       [  0.        ,   0.        ,   0.        , ...,   0.        ,\n",
       "          0.        ,   2.9480028 ]])"
      ]
     },
     "execution_count": 146,
     "metadata": {},
     "output_type": "execute_result"
    }
   ],
   "source": [
    "Sigma"
   ]
  },
  {
   "cell_type": "code",
   "execution_count": 147,
   "id": "140403c5",
   "metadata": {},
   "outputs": [],
   "source": [
    "r=3\n",
    "Ur = U[:, :r]\n",
    "Sr = Sigma[:r, :r]\n",
    "Vr = V[:, :r]"
   ]
  },
  {
   "cell_type": "code",
   "execution_count": 148,
   "id": "dcb4170d",
   "metadata": {},
   "outputs": [
    {
     "data": {
      "text/plain": [
       "((1, 9724), matrix([[5., 0., 0., ..., 0., 4., 0.]]))"
      ]
     },
     "execution_count": 148,
     "metadata": {},
     "output_type": "execute_result"
    }
   ],
   "source": [
    "# 新用户和潜在因素之间的关系矩阵\n",
    "test_user = np.mat(user_item_matrix__test.values)\n",
    "test_user.shape, test_user"
   ]
  },
  {
   "cell_type": "code",
   "execution_count": 149,
   "id": "1d3c3f64",
   "metadata": {},
   "outputs": [
    {
     "data": {
      "text/plain": [
       "matrix([[-0.13331135,  0.15981166, -0.0692074 ]])"
      ]
     },
     "execution_count": 149,
     "metadata": {},
     "output_type": "execute_result"
    }
   ],
   "source": [
    "tmp = test_user * Ur * np.linalg.inv(Sr)\n",
    "tmp"
   ]
  },
  {
   "cell_type": "code",
   "execution_count": 150,
   "id": "1fc16fb3",
   "metadata": {},
   "outputs": [
    {
     "data": {
      "text/plain": [
       "array([-0.13331135,  0.15981166, -0.0692074 ])"
      ]
     },
     "execution_count": 150,
     "metadata": {},
     "output_type": "execute_result"
    }
   ],
   "source": [
    "test_user_result = np.array([tmp[0,0], tmp[0,1], tmp[0,2]])\n",
    "test_user_result"
   ]
  },
  {
   "cell_type": "code",
   "execution_count": 151,
   "id": "ed59a848",
   "metadata": {},
   "outputs": [
    {
     "data": {
      "text/plain": [
       "array([[-0.15984579],\n",
       "       [ 0.81159541],\n",
       "       [-0.14714827],\n",
       "       [-0.13610433],\n",
       "       [-0.44311623],\n",
       "       [-0.47390031],\n",
       "       [ 0.48528426],\n",
       "       [-0.41232427],\n",
       "       [ 0.78471551],\n",
       "       [ 0.8713775 ]])"
      ]
     },
     "execution_count": 151,
     "metadata": {},
     "output_type": "execute_result"
    }
   ],
   "source": [
    "cos_sim = cosine_similarity(Vr, test_user_result.reshape(1, -1))\n",
    "cos_sim[:10]"
   ]
  },
  {
   "cell_type": "code",
   "execution_count": 152,
   "id": "5aae4e62",
   "metadata": {},
   "outputs": [
    {
     "data": {
      "text/plain": [
       "array([-0.15984579,  0.81159541, -0.14714827, -0.13610433, -0.44311623,\n",
       "       -0.47390031,  0.48528426, -0.41232427,  0.78471551,  0.8713775 ])"
      ]
     },
     "execution_count": 152,
     "metadata": {},
     "output_type": "execute_result"
    }
   ],
   "source": [
    "cos_sim_list = cos_sim.reshape(-1, cos_sim.shape[0])[0]\n",
    "cos_sim_list[:10]"
   ]
  },
  {
   "cell_type": "code",
   "execution_count": 153,
   "id": "0d07caa1",
   "metadata": {},
   "outputs": [
    {
     "data": {
      "text/plain": [
       "317"
      ]
     },
     "execution_count": 153,
     "metadata": {},
     "output_type": "execute_result"
    }
   ],
   "source": [
    "recommended_user_id = np.argsort(-cos_sim_list)[0]\n",
    "recommended_user_id"
   ]
  },
  {
   "cell_type": "code",
   "execution_count": 154,
   "id": "b565a8c5",
   "metadata": {},
   "outputs": [
    {
     "data": {
      "text/html": [
       "<div>\n",
       "<style scoped>\n",
       "    .dataframe tbody tr th:only-of-type {\n",
       "        vertical-align: middle;\n",
       "    }\n",
       "\n",
       "    .dataframe tbody tr th {\n",
       "        vertical-align: top;\n",
       "    }\n",
       "\n",
       "    .dataframe thead th {\n",
       "        text-align: right;\n",
       "    }\n",
       "</style>\n",
       "<table border=\"1\" class=\"dataframe\">\n",
       "  <thead>\n",
       "    <tr style=\"text-align: right;\">\n",
       "      <th></th>\n",
       "      <th>movieId</th>\n",
       "      <th>title</th>\n",
       "      <th>genres</th>\n",
       "    </tr>\n",
       "  </thead>\n",
       "  <tbody>\n",
       "    <tr>\n",
       "      <th>0</th>\n",
       "      <td>1</td>\n",
       "      <td>Toy Story (1995)</td>\n",
       "      <td>Adventure|Animation|Children|Comedy|Fantasy</td>\n",
       "    </tr>\n",
       "    <tr>\n",
       "      <th>1</th>\n",
       "      <td>2</td>\n",
       "      <td>Jumanji (1995)</td>\n",
       "      <td>Adventure|Children|Fantasy</td>\n",
       "    </tr>\n",
       "    <tr>\n",
       "      <th>2</th>\n",
       "      <td>3</td>\n",
       "      <td>Grumpier Old Men (1995)</td>\n",
       "      <td>Comedy|Romance</td>\n",
       "    </tr>\n",
       "    <tr>\n",
       "      <th>3</th>\n",
       "      <td>4</td>\n",
       "      <td>Waiting to Exhale (1995)</td>\n",
       "      <td>Comedy|Drama|Romance</td>\n",
       "    </tr>\n",
       "    <tr>\n",
       "      <th>4</th>\n",
       "      <td>5</td>\n",
       "      <td>Father of the Bride Part II (1995)</td>\n",
       "      <td>Comedy</td>\n",
       "    </tr>\n",
       "    <tr>\n",
       "      <th>...</th>\n",
       "      <td>...</td>\n",
       "      <td>...</td>\n",
       "      <td>...</td>\n",
       "    </tr>\n",
       "    <tr>\n",
       "      <th>9737</th>\n",
       "      <td>193581</td>\n",
       "      <td>Black Butler: Book of the Atlantic (2017)</td>\n",
       "      <td>Action|Animation|Comedy|Fantasy</td>\n",
       "    </tr>\n",
       "    <tr>\n",
       "      <th>9738</th>\n",
       "      <td>193583</td>\n",
       "      <td>No Game No Life: Zero (2017)</td>\n",
       "      <td>Animation|Comedy|Fantasy</td>\n",
       "    </tr>\n",
       "    <tr>\n",
       "      <th>9739</th>\n",
       "      <td>193585</td>\n",
       "      <td>Flint (2017)</td>\n",
       "      <td>Drama</td>\n",
       "    </tr>\n",
       "    <tr>\n",
       "      <th>9740</th>\n",
       "      <td>193587</td>\n",
       "      <td>Bungo Stray Dogs: Dead Apple (2018)</td>\n",
       "      <td>Action|Animation</td>\n",
       "    </tr>\n",
       "    <tr>\n",
       "      <th>9741</th>\n",
       "      <td>193609</td>\n",
       "      <td>Andrew Dice Clay: Dice Rules (1991)</td>\n",
       "      <td>Comedy</td>\n",
       "    </tr>\n",
       "  </tbody>\n",
       "</table>\n",
       "<p>9724 rows × 3 columns</p>\n",
       "</div>"
      ],
      "text/plain": [
       "      movieId                                      title  \\\n",
       "0           1                           Toy Story (1995)   \n",
       "1           2                             Jumanji (1995)   \n",
       "2           3                    Grumpier Old Men (1995)   \n",
       "3           4                   Waiting to Exhale (1995)   \n",
       "4           5         Father of the Bride Part II (1995)   \n",
       "...       ...                                        ...   \n",
       "9737   193581  Black Butler: Book of the Atlantic (2017)   \n",
       "9738   193583               No Game No Life: Zero (2017)   \n",
       "9739   193585                               Flint (2017)   \n",
       "9740   193587        Bungo Stray Dogs: Dead Apple (2018)   \n",
       "9741   193609        Andrew Dice Clay: Dice Rules (1991)   \n",
       "\n",
       "                                           genres  \n",
       "0     Adventure|Animation|Children|Comedy|Fantasy  \n",
       "1                      Adventure|Children|Fantasy  \n",
       "2                                  Comedy|Romance  \n",
       "3                            Comedy|Drama|Romance  \n",
       "4                                          Comedy  \n",
       "...                                           ...  \n",
       "9737              Action|Animation|Comedy|Fantasy  \n",
       "9738                     Animation|Comedy|Fantasy  \n",
       "9739                                        Drama  \n",
       "9740                             Action|Animation  \n",
       "9741                                       Comedy  \n",
       "\n",
       "[9724 rows x 3 columns]"
      ]
     },
     "execution_count": 154,
     "metadata": {},
     "output_type": "execute_result"
    }
   ],
   "source": [
    "df_movie"
   ]
  },
  {
   "cell_type": "code",
   "execution_count": 155,
   "id": "1b398080",
   "metadata": {},
   "outputs": [],
   "source": [
    "movie_list = list(user_item_matrix.columns)\n",
    "def movie_recommend(ind):\n",
    "    try:\n",
    "        movie_id = movie_list[ind]\n",
    "        flt_rating = df_ratings[df_ratings['movieId'] == movie_id ]\n",
    "        rating = flt_rating['movieId'].values[0]\n",
    "        moive_rating = df_movie[df_movie['movieId'] == rating]\n",
    "        res = moive_rating['title'].values[0]\n",
    "        return res\n",
    "    except:\n",
    "        return '' "
   ]
  },
  {
   "cell_type": "code",
   "execution_count": 156,
   "id": "8628efc8",
   "metadata": {},
   "outputs": [
    {
     "name": "stdout",
     "output_type": "stream",
     "text": [
      "0 - Toy Story (1995) - 5.0\n",
      "5 - Heat (1995) - 5.0\n",
      "15 - Casino (1995) - 4.5\n",
      "31 - Twelve Monkeys (a.k.a. 12 Monkeys) (1995) - 4.5\n",
      "46 - Seven (a.k.a. Se7en) (1995) - 5.0\n",
      "49 - Usual Suspects, The (1995) - 4.0\n",
      "69 - From Dusk Till Dawn (1996) - 4.0\n",
      "92 - Broken Arrow (1996) - 3.5\n",
      "107 - Braveheart (1995) - 4.5\n",
      "108 - Taxi Driver (1976) - 5.0\n",
      "109 - Rumble in the Bronx (Hont faan kui) (1995) - 4.0\n",
      "132 - 31 (2016) - 3.5\n",
      "142 - Batman Forever (1995) - 3.0\n",
      "148 - Clockers (1995) - 3.5\n",
      "182 - Smoke (1995) - 5.0\n",
      "185 - Fearless Hyena, The (Xiao quan guai zhao) (1979) - 3.0\n",
      "203 - Before Sunrise (1995) - 5.0\n",
      "218 - Dumb & Dumber (Dumb and Dumber) (1994) - 4.0\n",
      "225 - Hitchhiker's Guide to the Galaxy, The (2005) - 3.5\n",
      "247 - Star Wars: Episode IV - A New Hope (1977) - 5.0\n"
     ]
    }
   ],
   "source": [
    "# Аниме, которые оценивал текущий пользователь user_id=152:\n",
    "i=1\n",
    "for idx, item in enumerate(np.ndarray.flatten(np.array(test_user))):\n",
    "    if item > 0:\n",
    "        movie_name = movie_recommend(idx)\n",
    "        print('{} - {} - {}'.format(idx,movie_name, item))\n",
    "        if i==20:\n",
    "            break\n",
    "        else:\n",
    "            i+=1"
   ]
  },
  {
   "cell_type": "code",
   "execution_count": 157,
   "id": "7de884d2",
   "metadata": {},
   "outputs": [
    {
     "name": "stdout",
     "output_type": "stream",
     "text": [
      "1 - Jumanji (1995) - 3.5\n",
      "5 - Heat (1995) - 4.0\n",
      "17 - Four Rooms (1995) - 3.0\n",
      "18 - Ace Ventura: When Nature Calls (1995) - 3.5\n",
      "28 - City of Lost Children, The (Cité des enfants perdus, La) (1995) - 3.5\n",
      "31 - Twelve Monkeys (a.k.a. 12 Monkeys) (1995) - 4.5\n",
      "46 - Seven (a.k.a. Se7en) (1995) - 4.0\n",
      "47 - Pocahontas (1995) - 3.5\n",
      "71 - Kicking and Screaming (1995) - 4.5\n",
      "93 - Battle in Seattle (2007) - 4.0\n",
      "94 - Hate (Haine, La) (1995) - 4.5\n",
      "106 - Timecrimes (Cronocrímenes, Los) (2007) - 3.5\n",
      "119 - Chungking Express (Chung Hing sam lam) (1994) - 4.5\n",
      "125 - Trip to the Moon, A (Voyage dans la lune, Le) (1902) - 3.0\n",
      "129 - Ascent, The (Voskhozhdeniye) (1977) - 3.5\n",
      "134 - Bad Boys (1995) - 3.5\n",
      "142 - Batman Forever (1995) - 3.0\n",
      "143 - Beauty of the Day (Belle de jour) (1967) - 3.0\n",
      "148 - Clockers (1995) - 4.0\n",
      "151 - Crumb (1994) - 3.5\n"
     ]
    }
   ],
   "source": [
    "# Аниме, которые оценивал наиболее схожий пользователь:\n",
    "i=1\n",
    "recommended_user_item_matrix = user_item_matrix.loc[[recommended_user_id+1]]\n",
    "for idx, item in enumerate(np.ndarray.flatten(np.array(recommended_user_item_matrix))):\n",
    "    if item > 0:\n",
    "        movie_name = movie_recommend(idx)\n",
    "        print('{} - {} - {}'.format(idx, movie_name, item))\n",
    "        if i==20:\n",
    "            break\n",
    "        else:\n",
    "            i+=1"
   ]
  }
 ],
 "metadata": {
  "kernelspec": {
   "display_name": "Python 3 (ipykernel)",
   "language": "python",
   "name": "python3"
  },
  "language_info": {
   "codemirror_mode": {
    "name": "ipython",
    "version": 3
   },
   "file_extension": ".py",
   "mimetype": "text/x-python",
   "name": "python",
   "nbconvert_exporter": "python",
   "pygments_lexer": "ipython3",
   "version": "3.9.7"
  }
 },
 "nbformat": 4,
 "nbformat_minor": 5
}
